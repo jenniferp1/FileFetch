{
 "cells": [
  {
   "cell_type": "code",
   "execution_count": null,
   "metadata": {},
   "outputs": [],
   "source": []
  },
  {
   "cell_type": "code",
   "execution_count": null,
   "metadata": {},
   "outputs": [],
   "source": [
    "import plotly.graph_objects as go\n",
    "from plotly.subplots import make_subplots\n",
    "import pandas as pd\n",
    "from datetime import date, timedelta, datetime\n",
    "import numpy as np\n",
    "import matplotlib.pyplot as plt"
   ]
  },
  {
   "cell_type": "code",
   "execution_count": null,
   "metadata": {},
   "outputs": [],
   "source": [
    "def get_today():\n",
    "    now = date.today()\n",
    "    now = now.strftime(\"%Y-%m-%d\")\n",
    "    return now"
   ]
  },
  {
   "cell_type": "code",
   "execution_count": null,
   "metadata": {},
   "outputs": [],
   "source": [
    "df = pd.read_csv(\"ctp_after.csv\")\n",
    "# df = pd.read_csv(\"after.csv\", dtype={\"Fips\":str}, parse_dates=['ReportDate'])\n",
    "df.head()"
   ]
  },
  {
   "cell_type": "code",
   "execution_count": null,
   "metadata": {},
   "outputs": [],
   "source": [
    "# df[\"PrevPos7DayRegion\"] = df[\"Positivity7DayRegion\"]\n",
    "# df[\"PrevPos7DayRegion\"] = df.apply(lambda row:  df[df.ReportDate == prev][\"Positivity7DayRegion\"], axis=1)\n",
    "# df.loc[df[df.ReportDate == prev],\"PrevPos7DayRegion\"]\n",
    "\n",
    "df[\"Pos7DayRegion_13\"] = df.groupby([\"CensusRegionName\", \"State\"])[\"Positivity7DayRegion\"].transform(lambda x: x.shift(-13))\n",
    "df[\"Pos7DayRegion_12\"] = df.groupby([\"CensusRegionName\", \"State\"])[\"Positivity7DayRegion\"].transform(lambda x: x.shift(-12))\n",
    "df[\"Pos7DayRegion_11\"] = df.groupby([\"CensusRegionName\", \"State\"])[\"Positivity7DayRegion\"].transform(lambda x: x.shift(-11))\n",
    "df[\"Pos7DayRegion_10\"] = df.groupby([\"CensusRegionName\", \"State\"])[\"Positivity7DayRegion\"].transform(lambda x: x.shift(-10))\n",
    "df[\"Pos7DayRegion_09\"] = df.groupby([\"CensusRegionName\", \"State\"])[\"Positivity7DayRegion\"].transform(lambda x: x.shift(-9))\n",
    "df[\"Pos7DayRegion_08\"] = df.groupby([\"CensusRegionName\", \"State\"])[\"Positivity7DayRegion\"].transform(lambda x: x.shift(-8))\n",
    "df[\"Pos7DayRegion_07\"] = df.groupby([\"CensusRegionName\", \"State\"])[\"Positivity7DayRegion\"].transform(lambda x: x.shift(-7))\n",
    "df[\"Pos7DayRegion_06\"] = df.groupby([\"CensusRegionName\", \"State\"])[\"Positivity7DayRegion\"].transform(lambda x: x.shift(-6))\n",
    "df[\"Pos7DayRegion_05\"] = df.groupby([\"CensusRegionName\", \"State\"])[\"Positivity7DayRegion\"].transform(lambda x: x.shift(-5))\n",
    "df[\"Pos7DayRegion_04\"] = df.groupby([\"CensusRegionName\", \"State\"])[\"Positivity7DayRegion\"].transform(lambda x: x.shift(-4))\n",
    "df[\"Pos7DayRegion_03\"] = df.groupby([\"CensusRegionName\", \"State\"])[\"Positivity7DayRegion\"].transform(lambda x: x.shift(-3))\n",
    "df[\"Pos7DayRegion_02\"] = df.groupby([\"CensusRegionName\", \"State\"])[\"Positivity7DayRegion\"].transform(lambda x: x.shift(-2))\n",
    "df[\"Pos7DayRegion_01\"] = df.groupby([\"CensusRegionName\", \"State\"])[\"Positivity7DayRegion\"].transform(lambda x: x.shift(-1))\n",
    "df[\"Pos7DayRegion_00\"] = df.groupby([\"CensusRegionName\", \"State\"])[\"Positivity7DayRegion\"].transform(lambda x: x.shift(0))\n",
    "\n",
    "df.head()\n"
   ]
  },
  {
   "cell_type": "code",
   "execution_count": null,
   "metadata": {},
   "outputs": [],
   "source": [
    "df[\"TrendRegion\"] = np.nan\n",
    "df.loc[(df[\"Positivity7DayRegion\"] - df[\"Pos7DayRegion_13\"]) >  0.1, \"TrendRegion\"] = \"Increasing\"\n",
    "df.loc[(df[\"Positivity7DayRegion\"] - df[\"Pos7DayRegion_13\"]) < -0.1, \"TrendRegion\"] = \"Decreasing\"\n",
    "df[\"TrendRegion\"].replace(np.nan, 'Flat', regex=True, inplace=True)\n",
    "df.head()\n",
    "# df.tail()"
   ]
  },
  {
   "cell_type": "code",
   "execution_count": null,
   "metadata": {},
   "outputs": [],
   "source": [
    "df = df[df.ReportDate > \"2020-03-31 00:00:00\"]"
   ]
  },
  {
   "cell_type": "code",
   "execution_count": null,
   "metadata": {},
   "outputs": [],
   "source": [
    "groups = df.groupby([\"CensusRegionName\",\"State\"])\n",
    "keep_cols = [\"ReportDate\",\"CensusRegionName\",\"TotTestIncrRegion\",\"Positivity7DayRegion\",  \n",
    "             'Pos7DayRegion_13', 'Pos7DayRegion_12', 'Pos7DayRegion_11',\n",
    "             'Pos7DayRegion_10', 'Pos7DayRegion_09', 'Pos7DayRegion_08',\n",
    "             'Pos7DayRegion_07', 'Pos7DayRegion_06', 'Pos7DayRegion_05',\n",
    "             'Pos7DayRegion_04', 'Pos7DayRegion_03', 'Pos7DayRegion_02',\n",
    "             'Pos7DayRegion_01', 'Pos7DayRegion_00', 'TrendRegion']\n",
    "west = groups[keep_cols].get_group((\"West\",\"Alaska\"))\n",
    "midwest = groups[keep_cols].get_group((\"Midwest\",\"Illinois\"))\n",
    "south = groups[keep_cols].get_group((\"South\",\"Alabama\"))\n",
    "northeast = groups[keep_cols].get_group((\"Northeast\",\"Connecticut\"))"
   ]
  },
  {
   "cell_type": "code",
   "execution_count": null,
   "metadata": {},
   "outputs": [],
   "source": [
    "# west.head()"
   ]
  },
  {
   "cell_type": "code",
   "execution_count": null,
   "metadata": {},
   "outputs": [],
   "source": [
    "# midwest.head()"
   ]
  },
  {
   "cell_type": "code",
   "execution_count": null,
   "metadata": {},
   "outputs": [],
   "source": [
    "# south.head()"
   ]
  },
  {
   "cell_type": "code",
   "execution_count": null,
   "metadata": {},
   "outputs": [],
   "source": [
    "# northeast.head()"
   ]
  },
  {
   "cell_type": "code",
   "execution_count": null,
   "metadata": {},
   "outputs": [],
   "source": [
    "fig = make_subplots(rows=1, cols=4,\n",
    "                    subplot_titles=(\"Northeast\",\"Midwest\",\"South\",\"West\",),\n",
    "                    specs=[[{\"secondary_y\": True},{\"secondary_y\": True},\n",
    "                           {\"secondary_y\": True},{\"secondary_y\": True}]],\n",
    "                    horizontal_spacing = 0.025,\n",
    "                    shared_xaxes=True,)\n"
   ]
  },
  {
   "cell_type": "code",
   "execution_count": null,
   "metadata": {},
   "outputs": [],
   "source": [
    "fig.add_trace(\n",
    "    go.Bar(x=northeast[\"ReportDate\"], y=northeast[\"TotTestIncrRegion\"], \n",
    "          hovertemplate='%{y:10,.1d}', \n",
    "          name=\"Number of Tests\",\n",
    "          opacity=1.0, marker_color='rgb(26, 118, 255)'),\n",
    "    row=1, col=1, secondary_y=False,\n",
    ")\n",
    "\n",
    "fig.add_trace(\n",
    "    go.Scatter(x=northeast[\"ReportDate\"], y=northeast[\"Positivity7DayRegion\"],\n",
    "               hovertemplate='%{y:17,.1f}%',\n",
    "               name=\"Positivity\",\n",
    "              line=go.scatter.Line(color=\"black\")),\n",
    "    row=1, col=1, secondary_y=True,\n",
    ")\n",
    "\n",
    "\n",
    "fig.update_yaxes(title_text=\"Daily Tests\", range=[0, 375000], tick0=0.0, dtick=25000, visible=True, \n",
    "                 showticklabels=True, row=1, col=1, secondary_y=False)\n",
    "_ = fig.update_yaxes(range=[0, 40], tick0=0.0, dtick=5, visible=False, showticklabels=False, \n",
    "                 row=1, col=1, secondary_y=True)\n"
   ]
  },
  {
   "cell_type": "code",
   "execution_count": null,
   "metadata": {},
   "outputs": [],
   "source": [
    "fig.add_trace(\n",
    "    go.Bar(x=midwest[\"ReportDate\"], y=midwest[\"TotTestIncrRegion\"], \n",
    "          hovertemplate='%{y:10,.1d}', \n",
    "          name=\"Number of Tests\",\n",
    "          opacity=1.0,marker_color='rgb(26, 118, 255)',),\n",
    "    row=1, col=2, secondary_y=False,\n",
    ")\n",
    "\n",
    "fig.add_trace(\n",
    "    go.Scatter(x=midwest[\"ReportDate\"], y=midwest[\"Positivity7DayRegion\"],\n",
    "               hovertemplate='%{y:17,.1f}%',\n",
    "               name=\"Positivity\",\n",
    "              line=go.scatter.Line(color=\"black\")),\n",
    "    row=1, col=2, secondary_y=True,\n",
    ")\n",
    "\n",
    "\n",
    "fig.update_yaxes(range=[0, 375000], tick0=0.0, dtick=25000, visible=True, showticklabels=False, \n",
    "                 row=1, col=2, secondary_y=False)\n",
    "\n",
    "_ = fig.update_yaxes(range=[0, 40], tick0=0.0, dtick=5, visible=False, showticklabels=False, \n",
    "                 row=1, col=2, secondary_y=True)\n"
   ]
  },
  {
   "cell_type": "code",
   "execution_count": null,
   "metadata": {},
   "outputs": [],
   "source": [
    "fig.add_trace(\n",
    "    go.Bar(x=south[\"ReportDate\"], y=south[\"TotTestIncrRegion\"], \n",
    "          hovertemplate='%{y:10,.1d}', \n",
    "          name=\"Number of Tests\",\n",
    "          opacity=1.0,marker_color='rgb(26, 118, 255)',),\n",
    "    row=1, col=3, secondary_y=False,\n",
    ")\n",
    "\n",
    "fig.add_trace(\n",
    "    go.Scatter(x=south[\"ReportDate\"], y=south[\"Positivity7DayRegion\"],\n",
    "               hovertemplate='%{y:17,.1f}%',\n",
    "               name=\"Positivity\",\n",
    "              line=go.scatter.Line(color=\"black\")),\n",
    "    row=1, col=3, secondary_y=True,\n",
    ")\n",
    "\n",
    "fig.update_yaxes(range=[0, 375000], tick0=0.0, dtick=25000, visible=True, showticklabels=False, \n",
    "                 row=1, col=3, secondary_y=False)\n",
    "\n",
    "_ = fig.update_yaxes(range=[0, 40], tick0=0.0, dtick=5, visible=False, showticklabels=False, \n",
    "                 row=1, col=3, secondary_y=True)"
   ]
  },
  {
   "cell_type": "code",
   "execution_count": null,
   "metadata": {},
   "outputs": [],
   "source": [
    "fig.add_trace(\n",
    "    go.Bar(x=west[\"ReportDate\"], y=west[\"TotTestIncrRegion\"], \n",
    "          hovertemplate='%{y:10,.1d}', \n",
    "          name=\"Number of Tests\",\n",
    "          opacity=1.0,marker_color='rgb(26, 118, 255)',),\n",
    "    row=1, col=4, secondary_y=False,\n",
    ")\n",
    "\n",
    "fig.add_trace(\n",
    "    go.Scatter(x=west[\"ReportDate\"], y=west[\"Positivity7DayRegion\"],\n",
    "               hovertemplate='%{y:17,.1f}%',\n",
    "               name=\"Positivity\",\n",
    "              line=go.scatter.Line(color=\"black\")),\n",
    "    row=1, col=4, secondary_y=True,\n",
    ")\n",
    "\n",
    "\n",
    "\n",
    "fig.update_yaxes(range=[0, 375000], tick0=0.0, dtick=25000, visible=True, showticklabels=False, \n",
    "                 row=1, col=4, secondary_y=False)\n",
    "\n",
    "_ = fig.update_yaxes(title_text=\"Percent Positive\", range=[0, 40], tick0=0.0, dtick=5, visible=True, \n",
    "                 showticklabels=True, showgrid=False, row=1, col=4, secondary_y=True)"
   ]
  },
  {
   "cell_type": "code",
   "execution_count": null,
   "metadata": {},
   "outputs": [],
   "source": [
    "fig.update_layout(\n",
    "    title_text=\"Regional Daily Tests and Positivity, 7-Day Rolling Avg.\",\n",
    "    title_x = 0.5,\n",
    "    title_y = .98,\n",
    "#     xaxis=dict(range = [startdate, enddate], tickformat = '%b %d', dtick = 14*86400000.0)\n",
    "#     xaxis=dict(tickformat = '%b %e')\n",
    ")\n",
    "\n",
    "# fig.update_xaxes(title_text=\"Date\")\n",
    "\n",
    "fig.update_xaxes(tickangle=90,tickformat = '%b %e')\n",
    "\n",
    "\n",
    "fig.update_layout(showlegend=False, bargap=0) \n",
    "\n",
    "fig.update_layout(\n",
    "    hoverlabel=dict(\n",
    "        bgcolor=\"white\", \n",
    "        font_size=12, \n",
    "        font_family=\"Times\"\n",
    "    )\n",
    ")\n",
    "\n",
    "fig.update_layout(hovermode='x unified')\n",
    "\n",
    "fig.update_layout(\n",
    "    autosize=False,\n",
    "    width=1100,\n",
    "    height=600,\n",
    "    margin=dict(\n",
    "        l=90,\n",
    "        r=0,\n",
    "        b=50,\n",
    "        t=100,\n",
    "        pad=4\n",
    "    ),\n",
    ")\n",
    "\n",
    "# fig.update_xaxes(rangeslider_visible=True)\n",
    "\n",
    "fig.update_xaxes(\n",
    "    rangeslider_visible=True,\n",
    "    rangeselector=dict(\n",
    "        buttons=list([\n",
    "            dict(count=7, label=\"1w\", step=\"day\", stepmode=\"backward\"),\n",
    "            dict(count=14, label=\"2w\", step=\"day\", stepmode=\"backward\"),\n",
    "            dict(count=1, label=\"1m\", step=\"month\", stepmode=\"backward\"),\n",
    "            dict(step=\"all\")\n",
    "        ])\n",
    "    )\n",
    ")\n",
    "\n",
    "fig.update_annotations(y=1.1, selector={'text':'Northeast'})\n",
    "fig.update_annotations(y=1.1, selector={'text':'Midwest'})\n",
    "fig.update_annotations(y=1.1, selector={'text':'South'})\n",
    "fig.update_annotations(y=1.1, selector={'text':'West'})\n",
    "\n",
    "\n",
    "fig.show()"
   ]
  },
  {
   "cell_type": "markdown",
   "metadata": {},
   "source": [
    "https://community.plotly.com/t/y-axis-autoscaling-with-x-range-sliders/10245/4"
   ]
  },
  {
   "cell_type": "code",
   "execution_count": null,
   "metadata": {},
   "outputs": [],
   "source": [
    "# def zoom(layout, xrange):\n",
    "#     in_view = df.loc[fig.layout.xaxis.range[0]:fig.layout.xaxis.range[1]]\n",
    "#     fig.layout.yaxis.range = [in_view.Positivity7DayRegion.min() - 5, in_view.Positivity7DayRegion.max() + 5]\n",
    "\n",
    "# fig.layout.on_change(zoom, 'xaxis.range')\n",
    "\n",
    "# fig.show()"
   ]
  },
  {
   "cell_type": "code",
   "execution_count": null,
   "metadata": {},
   "outputs": [],
   "source": [
    "today = get_today()\n",
    "fig.write_html(f\"./regional_positivity_over_time_{today}.html\")"
   ]
  },
  {
   "cell_type": "code",
   "execution_count": null,
   "metadata": {},
   "outputs": [],
   "source": [
    "curr = max(df.ReportDate)\n",
    "curr = datetime.strptime(curr, '%Y-%m-%d')\n",
    "\n",
    "prev = curr - timedelta(days=13)\n",
    "\n",
    "numdays = 14\n",
    "date_list = [prev + timedelta(days=x) for x in range(numdays)]\n",
    "# date_list"
   ]
  },
  {
   "cell_type": "code",
   "execution_count": null,
   "metadata": {},
   "outputs": [],
   "source": [
    "fig = make_subplots(rows=2, cols=2,\n",
    "                    subplot_titles=(\"Northeast\",\"Midwest\",\"South\",\"West\",),\n",
    "                    specs=[[{\"secondary_y\": False},{\"secondary_y\": False}],\n",
    "                           [{\"secondary_y\": False},{\"secondary_y\": False}]],\n",
    "                    horizontal_spacing = 0.025,\n",
    "                    )"
   ]
  },
  {
   "cell_type": "code",
   "execution_count": null,
   "metadata": {},
   "outputs": [],
   "source": [
    "y = northeast.iloc[:1,4:-1].values.tolist()[0]\n",
    "start = f\"{y[0]} %\" \n",
    "end = f\"{y[-1]} %\"\n",
    "maxy = round(max(y))\n",
    "miny = round(min(y))\n",
    "diff = (maxy - miny - 5)/2.0\n",
    "maxy = maxy + abs(diff)\n",
    "miny = miny - abs(diff)\n",
    "\n",
    "fig.add_trace(\n",
    "    go.Scatter(\n",
    "        x=date_list,\n",
    "        y=y,\n",
    "        hovertemplate = '%{y:.2f}%',\n",
    "        name=\"\",\n",
    "        line=go.scatter.Line(color=\"blue\"),\n",
    "        mode=\"lines+markers+text\",\n",
    "        text=[start, \"\", \"\", \"\", \"\", \"\", \"\", \"\", \"\", \"\", \"\", \"\", \"\", end],\n",
    "        textposition=\"bottom center\"\n",
    "    ),\n",
    "    row=1, col=1\n",
    ")\n",
    "\n",
    "_ = fig.update_yaxes(title_text=\"Positivity\", visible=True, range=[miny, maxy],\n",
    "                 tick0=miny, dtick=(maxy-miny)/5,\n",
    "                 showticklabels=True, row=1, col=1, secondary_y=False)\n",
    "\n"
   ]
  },
  {
   "cell_type": "code",
   "execution_count": null,
   "metadata": {},
   "outputs": [],
   "source": [
    "y = midwest.iloc[:1,4:-1].values.tolist()[0]\n",
    "start = f\"{y[0]} %\" \n",
    "end = f\"{y[-1]} %\"\n",
    "maxy = round(max(y))\n",
    "miny = round(min(y))\n",
    "diff = (maxy - miny - 5)/2.0\n",
    "maxy = maxy + abs(diff)\n",
    "miny = miny - abs(diff)\n",
    "\n",
    "fig.add_trace(\n",
    "    go.Scatter(\n",
    "        x=date_list,\n",
    "        y=y,\n",
    "        hovertemplate = '%{y:.2f}%',\n",
    "        name=\"\",\n",
    "        line=go.scatter.Line(color=\"blue\"),\n",
    "        mode=\"lines+markers+text\",\n",
    "        text=[start, \"\", \"\", \"\", \"\", \"\", \"\", \"\", \"\", \"\", \"\", \"\", \"\", end],\n",
    "        textposition=\"bottom center\"\n",
    "    ),\n",
    "    row=1, col=2\n",
    ")\n",
    "\n",
    "_ = fig.update_yaxes( visible=True, range=[miny, maxy],\n",
    "                 tick0=miny, dtick=(maxy-miny)/5,\n",
    "                 showticklabels=True, row=1, col=2, secondary_y=False)\n",
    "\n"
   ]
  },
  {
   "cell_type": "code",
   "execution_count": null,
   "metadata": {},
   "outputs": [],
   "source": [
    "y = south.iloc[:1,4:-1].values.tolist()[0]\n",
    "start = f\"{y[0]} %\" \n",
    "end = f\"{y[-1]} %\"\n",
    "maxy = round(max(y))\n",
    "miny = round(min(y))\n",
    "diff = (maxy - miny - 5)/2.0\n",
    "maxy = maxy + abs(diff)\n",
    "miny = miny - abs(diff)\n",
    "\n",
    "fig.add_trace(\n",
    "    go.Scatter(\n",
    "        x=date_list,\n",
    "        y=y,\n",
    "        hovertemplate = '%{y:.2f}%',\n",
    "        name=\"\",\n",
    "        line=go.scatter.Line(color=\"blue\"),\n",
    "        mode=\"lines+markers+text\",\n",
    "        text=[start, \"\", \"\", \"\", \"\", \"\", \"\", \"\", \"\", \"\", \"\", \"\", \"\", end],\n",
    "        textposition=\"bottom center\"\n",
    "    ),\n",
    "    row=2, col=1\n",
    ")\n",
    "\n",
    "_ = fig.update_yaxes(title_text=\"Positivity\", visible=True, range=[miny, maxy],\n",
    "                 tick0=miny, dtick=(maxy-miny)/5,\n",
    "                 showticklabels=True, row=2, col=1, secondary_y=False)\n",
    "\n",
    "_ = fig.update_xaxes(tickformat = '%b %e')"
   ]
  },
  {
   "cell_type": "code",
   "execution_count": null,
   "metadata": {},
   "outputs": [],
   "source": [
    "y = west.iloc[:1,4:-1].values.tolist()[0]\n",
    "start = f\"{y[0]} %\" \n",
    "end = f\"{y[-1]} %\"\n",
    "maxy = round(max(y))\n",
    "miny = round(min(y))\n",
    "diff = (maxy - miny - 5)/2.0\n",
    "maxy = maxy + abs(diff)\n",
    "miny = miny - abs(diff)\n",
    "\n",
    "fig.add_trace(\n",
    "    go.Scatter(\n",
    "        x=date_list,\n",
    "        y=y,\n",
    "        hovertemplate = '%{y:.2f}%',\n",
    "        name=\"\",\n",
    "        line=go.scatter.Line(color=\"blue\"),\n",
    "        mode=\"lines+markers+text\",\n",
    "        text=[start, \"\", \"\", \"\", \"\", \"\", \"\", \"\", \"\", \"\", \"\", \"\", \"\", end],\n",
    "        textposition=\"bottom center\"\n",
    "    ),\n",
    "    row=2, col=2\n",
    ")\n",
    "\n",
    "_ = fig.update_yaxes( visible=True, range=[miny, maxy],\n",
    "                 tick0=miny, dtick=(maxy-miny)/5,\n",
    "                 showticklabels=True, row=2, col=2, secondary_y=False)"
   ]
  },
  {
   "cell_type": "code",
   "execution_count": null,
   "metadata": {},
   "outputs": [],
   "source": [
    "fig.update_layout(hovermode='x',  xaxis=dict(tickformat = '%b %e'), showlegend=False, \n",
    "                  title=\"Positivity by Region: 2-Week Trend\",title_x = 0.5,)\n",
    "fig.show()"
   ]
  },
  {
   "cell_type": "code",
   "execution_count": null,
   "metadata": {},
   "outputs": [],
   "source": [
    "today = get_today()\n",
    "fig.write_html(f\"./regional_positivity_2week_trend_{today}.html\")"
   ]
  }
 ],
 "metadata": {
  "kernelspec": {
   "display_name": "Python 3",
   "language": "python",
   "name": "python3"
  },
  "language_info": {
   "codemirror_mode": {
    "name": "ipython",
    "version": 3
   },
   "file_extension": ".py",
   "mimetype": "text/x-python",
   "name": "python",
   "nbconvert_exporter": "python",
   "pygments_lexer": "ipython3",
   "version": "3.6.11"
  }
 },
 "nbformat": 4,
 "nbformat_minor": 4
}
