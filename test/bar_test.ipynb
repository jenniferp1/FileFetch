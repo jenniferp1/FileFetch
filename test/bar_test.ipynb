{
 "cells": [
  {
   "cell_type": "code",
   "execution_count": null,
   "metadata": {},
   "outputs": [],
   "source": []
  },
  {
   "cell_type": "code",
   "execution_count": 1,
   "metadata": {},
   "outputs": [],
   "source": [
    "import plotly.graph_objects as go\n",
    "from plotly.subplots import make_subplots\n",
    "import pandas as pd\n",
    "from datetime import date, timedelta, datetime\n",
    "import numpy as np\n",
    "import matplotlib.pyplot as plt"
   ]
  },
  {
   "cell_type": "code",
   "execution_count": 2,
   "metadata": {},
   "outputs": [
    {
     "data": {
      "text/html": [
       "<div>\n",
       "<style scoped>\n",
       "    .dataframe tbody tr th:only-of-type {\n",
       "        vertical-align: middle;\n",
       "    }\n",
       "\n",
       "    .dataframe tbody tr th {\n",
       "        vertical-align: top;\n",
       "    }\n",
       "\n",
       "    .dataframe thead th {\n",
       "        text-align: right;\n",
       "    }\n",
       "</style>\n",
       "<table border=\"1\" class=\"dataframe\">\n",
       "  <thead>\n",
       "    <tr style=\"text-align: right;\">\n",
       "      <th></th>\n",
       "      <th>ReportDate</th>\n",
       "      <th>Fips</th>\n",
       "      <th>State</th>\n",
       "      <th>Positivity</th>\n",
       "      <th>PositivityIs</th>\n",
       "      <th>Positivity-13</th>\n",
       "      <th>Positivity-12</th>\n",
       "      <th>Positivity-11</th>\n",
       "      <th>Positivity-10</th>\n",
       "      <th>Positivity-09</th>\n",
       "      <th>Positivity-08</th>\n",
       "      <th>Positivity-07</th>\n",
       "      <th>Positivity-06</th>\n",
       "      <th>Positivity-05</th>\n",
       "      <th>Positivity-04</th>\n",
       "      <th>Positivity-03</th>\n",
       "      <th>Positivity-02</th>\n",
       "      <th>Positivity-01</th>\n",
       "      <th>Positivity-00</th>\n",
       "      <th>PosTestCategory</th>\n",
       "    </tr>\n",
       "  </thead>\n",
       "  <tbody>\n",
       "    <tr>\n",
       "      <th>0</th>\n",
       "      <td>2020-09-09</td>\n",
       "      <td>38</td>\n",
       "      <td>North Dakota</td>\n",
       "      <td>19.28</td>\n",
       "      <td>Increasing</td>\n",
       "      <td>11.90</td>\n",
       "      <td>13.23</td>\n",
       "      <td>14.89</td>\n",
       "      <td>16.32</td>\n",
       "      <td>20.11</td>\n",
       "      <td>18.64</td>\n",
       "      <td>20.08</td>\n",
       "      <td>20.05</td>\n",
       "      <td>19.58</td>\n",
       "      <td>19.09</td>\n",
       "      <td>18.97</td>\n",
       "      <td>17.48</td>\n",
       "      <td>19.58</td>\n",
       "      <td>19.28</td>\n",
       "      <td>High</td>\n",
       "    </tr>\n",
       "    <tr>\n",
       "      <th>1</th>\n",
       "      <td>2020-09-09</td>\n",
       "      <td>20</td>\n",
       "      <td>Kansas</td>\n",
       "      <td>18.36</td>\n",
       "      <td>Increasing</td>\n",
       "      <td>11.48</td>\n",
       "      <td>11.48</td>\n",
       "      <td>11.38</td>\n",
       "      <td>11.38</td>\n",
       "      <td>11.38</td>\n",
       "      <td>16.02</td>\n",
       "      <td>16.02</td>\n",
       "      <td>16.58</td>\n",
       "      <td>16.58</td>\n",
       "      <td>17.34</td>\n",
       "      <td>17.34</td>\n",
       "      <td>17.34</td>\n",
       "      <td>18.36</td>\n",
       "      <td>18.36</td>\n",
       "      <td>High</td>\n",
       "    </tr>\n",
       "    <tr>\n",
       "      <th>2</th>\n",
       "      <td>2020-09-09</td>\n",
       "      <td>46</td>\n",
       "      <td>South Dakota</td>\n",
       "      <td>18.19</td>\n",
       "      <td>Flat</td>\n",
       "      <td>18.36</td>\n",
       "      <td>16.38</td>\n",
       "      <td>17.82</td>\n",
       "      <td>20.36</td>\n",
       "      <td>23.01</td>\n",
       "      <td>22.99</td>\n",
       "      <td>22.21</td>\n",
       "      <td>19.78</td>\n",
       "      <td>23.16</td>\n",
       "      <td>22.23</td>\n",
       "      <td>20.71</td>\n",
       "      <td>18.91</td>\n",
       "      <td>18.73</td>\n",
       "      <td>18.19</td>\n",
       "      <td>High</td>\n",
       "    </tr>\n",
       "    <tr>\n",
       "      <th>3</th>\n",
       "      <td>2020-09-09</td>\n",
       "      <td>1</td>\n",
       "      <td>Alabama</td>\n",
       "      <td>17.89</td>\n",
       "      <td>Increasing</td>\n",
       "      <td>13.33</td>\n",
       "      <td>14.28</td>\n",
       "      <td>13.89</td>\n",
       "      <td>15.72</td>\n",
       "      <td>17.13</td>\n",
       "      <td>15.09</td>\n",
       "      <td>17.88</td>\n",
       "      <td>19.15</td>\n",
       "      <td>23.25</td>\n",
       "      <td>25.72</td>\n",
       "      <td>27.75</td>\n",
       "      <td>23.91</td>\n",
       "      <td>23.78</td>\n",
       "      <td>17.89</td>\n",
       "      <td>High</td>\n",
       "    </tr>\n",
       "    <tr>\n",
       "      <th>4</th>\n",
       "      <td>2020-09-09</td>\n",
       "      <td>40</td>\n",
       "      <td>Oklahoma</td>\n",
       "      <td>14.79</td>\n",
       "      <td>Increasing</td>\n",
       "      <td>8.99</td>\n",
       "      <td>8.88</td>\n",
       "      <td>8.23</td>\n",
       "      <td>9.15</td>\n",
       "      <td>9.32</td>\n",
       "      <td>9.94</td>\n",
       "      <td>9.32</td>\n",
       "      <td>9.45</td>\n",
       "      <td>9.58</td>\n",
       "      <td>9.86</td>\n",
       "      <td>9.83</td>\n",
       "      <td>9.45</td>\n",
       "      <td>9.30</td>\n",
       "      <td>14.79</td>\n",
       "      <td>High</td>\n",
       "    </tr>\n",
       "  </tbody>\n",
       "</table>\n",
       "</div>"
      ],
      "text/plain": [
       "   ReportDate  Fips         State  Positivity PositivityIs  Positivity-13  \\\n",
       "0  2020-09-09    38  North Dakota       19.28   Increasing          11.90   \n",
       "1  2020-09-09    20        Kansas       18.36   Increasing          11.48   \n",
       "2  2020-09-09    46  South Dakota       18.19         Flat          18.36   \n",
       "3  2020-09-09     1       Alabama       17.89   Increasing          13.33   \n",
       "4  2020-09-09    40      Oklahoma       14.79   Increasing           8.99   \n",
       "\n",
       "   Positivity-12  Positivity-11  Positivity-10  Positivity-09  Positivity-08  \\\n",
       "0          13.23          14.89          16.32          20.11          18.64   \n",
       "1          11.48          11.38          11.38          11.38          16.02   \n",
       "2          16.38          17.82          20.36          23.01          22.99   \n",
       "3          14.28          13.89          15.72          17.13          15.09   \n",
       "4           8.88           8.23           9.15           9.32           9.94   \n",
       "\n",
       "   Positivity-07  Positivity-06  Positivity-05  Positivity-04  Positivity-03  \\\n",
       "0          20.08          20.05          19.58          19.09          18.97   \n",
       "1          16.02          16.58          16.58          17.34          17.34   \n",
       "2          22.21          19.78          23.16          22.23          20.71   \n",
       "3          17.88          19.15          23.25          25.72          27.75   \n",
       "4           9.32           9.45           9.58           9.86           9.83   \n",
       "\n",
       "   Positivity-02  Positivity-01  Positivity-00 PosTestCategory  \n",
       "0          17.48          19.58          19.28            High  \n",
       "1          17.34          18.36          18.36            High  \n",
       "2          18.91          18.73          18.19            High  \n",
       "3          23.91          23.78          17.89            High  \n",
       "4           9.45           9.30          14.79            High  "
      ]
     },
     "execution_count": 2,
     "metadata": {},
     "output_type": "execute_result"
    }
   ],
   "source": [
    "df = pd.read_csv(\"ces_after.csv\")\n",
    "# df = pd.read_csv(\"after.csv\", dtype={\"Fips\":str}, parse_dates=['ReportDate'])\n",
    "df.head()"
   ]
  },
  {
   "cell_type": "code",
   "execution_count": 3,
   "metadata": {},
   "outputs": [
    {
     "data": {
      "text/html": [
       "<div>\n",
       "<style scoped>\n",
       "    .dataframe tbody tr th:only-of-type {\n",
       "        vertical-align: middle;\n",
       "    }\n",
       "\n",
       "    .dataframe tbody tr th {\n",
       "        vertical-align: top;\n",
       "    }\n",
       "\n",
       "    .dataframe thead th {\n",
       "        text-align: right;\n",
       "    }\n",
       "</style>\n",
       "<table border=\"1\" class=\"dataframe\">\n",
       "  <thead>\n",
       "    <tr style=\"text-align: right;\">\n",
       "      <th></th>\n",
       "      <th>ReportDate</th>\n",
       "      <th>Fips</th>\n",
       "      <th>State</th>\n",
       "      <th>Positivity</th>\n",
       "      <th>PositivityIs</th>\n",
       "      <th>Positivity-13</th>\n",
       "      <th>Positivity-12</th>\n",
       "      <th>Positivity-11</th>\n",
       "      <th>Positivity-10</th>\n",
       "      <th>Positivity-09</th>\n",
       "      <th>Positivity-08</th>\n",
       "      <th>Positivity-07</th>\n",
       "      <th>Positivity-06</th>\n",
       "      <th>Positivity-05</th>\n",
       "      <th>Positivity-04</th>\n",
       "      <th>Positivity-03</th>\n",
       "      <th>Positivity-02</th>\n",
       "      <th>Positivity-01</th>\n",
       "      <th>Positivity-00</th>\n",
       "      <th>PosTestCategory</th>\n",
       "    </tr>\n",
       "  </thead>\n",
       "  <tbody>\n",
       "    <tr>\n",
       "      <th>0</th>\n",
       "      <td>2020-09-09</td>\n",
       "      <td>38</td>\n",
       "      <td>North Dakota</td>\n",
       "      <td>19.28</td>\n",
       "      <td>Increasing</td>\n",
       "      <td>11.90</td>\n",
       "      <td>13.23</td>\n",
       "      <td>14.89</td>\n",
       "      <td>16.32</td>\n",
       "      <td>20.11</td>\n",
       "      <td>18.64</td>\n",
       "      <td>20.08</td>\n",
       "      <td>20.05</td>\n",
       "      <td>19.58</td>\n",
       "      <td>19.09</td>\n",
       "      <td>18.97</td>\n",
       "      <td>17.48</td>\n",
       "      <td>19.58</td>\n",
       "      <td>19.28</td>\n",
       "      <td>High</td>\n",
       "    </tr>\n",
       "    <tr>\n",
       "      <th>1</th>\n",
       "      <td>2020-09-09</td>\n",
       "      <td>20</td>\n",
       "      <td>Kansas</td>\n",
       "      <td>18.36</td>\n",
       "      <td>Increasing</td>\n",
       "      <td>11.48</td>\n",
       "      <td>11.48</td>\n",
       "      <td>11.38</td>\n",
       "      <td>11.38</td>\n",
       "      <td>11.38</td>\n",
       "      <td>16.02</td>\n",
       "      <td>16.02</td>\n",
       "      <td>16.58</td>\n",
       "      <td>16.58</td>\n",
       "      <td>17.34</td>\n",
       "      <td>17.34</td>\n",
       "      <td>17.34</td>\n",
       "      <td>18.36</td>\n",
       "      <td>18.36</td>\n",
       "      <td>High</td>\n",
       "    </tr>\n",
       "    <tr>\n",
       "      <th>2</th>\n",
       "      <td>2020-09-09</td>\n",
       "      <td>46</td>\n",
       "      <td>South Dakota</td>\n",
       "      <td>18.19</td>\n",
       "      <td>Flat</td>\n",
       "      <td>18.36</td>\n",
       "      <td>16.38</td>\n",
       "      <td>17.82</td>\n",
       "      <td>20.36</td>\n",
       "      <td>23.01</td>\n",
       "      <td>22.99</td>\n",
       "      <td>22.21</td>\n",
       "      <td>19.78</td>\n",
       "      <td>23.16</td>\n",
       "      <td>22.23</td>\n",
       "      <td>20.71</td>\n",
       "      <td>18.91</td>\n",
       "      <td>18.73</td>\n",
       "      <td>18.19</td>\n",
       "      <td>High</td>\n",
       "    </tr>\n",
       "    <tr>\n",
       "      <th>3</th>\n",
       "      <td>2020-09-09</td>\n",
       "      <td>1</td>\n",
       "      <td>Alabama</td>\n",
       "      <td>17.89</td>\n",
       "      <td>Increasing</td>\n",
       "      <td>13.33</td>\n",
       "      <td>14.28</td>\n",
       "      <td>13.89</td>\n",
       "      <td>15.72</td>\n",
       "      <td>17.13</td>\n",
       "      <td>15.09</td>\n",
       "      <td>17.88</td>\n",
       "      <td>19.15</td>\n",
       "      <td>23.25</td>\n",
       "      <td>25.72</td>\n",
       "      <td>27.75</td>\n",
       "      <td>23.91</td>\n",
       "      <td>23.78</td>\n",
       "      <td>17.89</td>\n",
       "      <td>High</td>\n",
       "    </tr>\n",
       "    <tr>\n",
       "      <th>4</th>\n",
       "      <td>2020-09-09</td>\n",
       "      <td>40</td>\n",
       "      <td>Oklahoma</td>\n",
       "      <td>14.79</td>\n",
       "      <td>Increasing</td>\n",
       "      <td>8.99</td>\n",
       "      <td>8.88</td>\n",
       "      <td>8.23</td>\n",
       "      <td>9.15</td>\n",
       "      <td>9.32</td>\n",
       "      <td>9.94</td>\n",
       "      <td>9.32</td>\n",
       "      <td>9.45</td>\n",
       "      <td>9.58</td>\n",
       "      <td>9.86</td>\n",
       "      <td>9.83</td>\n",
       "      <td>9.45</td>\n",
       "      <td>9.30</td>\n",
       "      <td>14.79</td>\n",
       "      <td>High</td>\n",
       "    </tr>\n",
       "  </tbody>\n",
       "</table>\n",
       "</div>"
      ],
      "text/plain": [
       "   ReportDate  Fips         State  Positivity PositivityIs  Positivity-13  \\\n",
       "0  2020-09-09    38  North Dakota       19.28   Increasing          11.90   \n",
       "1  2020-09-09    20        Kansas       18.36   Increasing          11.48   \n",
       "2  2020-09-09    46  South Dakota       18.19         Flat          18.36   \n",
       "3  2020-09-09     1       Alabama       17.89   Increasing          13.33   \n",
       "4  2020-09-09    40      Oklahoma       14.79   Increasing           8.99   \n",
       "\n",
       "   Positivity-12  Positivity-11  Positivity-10  Positivity-09  Positivity-08  \\\n",
       "0          13.23          14.89          16.32          20.11          18.64   \n",
       "1          11.48          11.38          11.38          11.38          16.02   \n",
       "2          16.38          17.82          20.36          23.01          22.99   \n",
       "3          14.28          13.89          15.72          17.13          15.09   \n",
       "4           8.88           8.23           9.15           9.32           9.94   \n",
       "\n",
       "   Positivity-07  Positivity-06  Positivity-05  Positivity-04  Positivity-03  \\\n",
       "0          20.08          20.05          19.58          19.09          18.97   \n",
       "1          16.02          16.58          16.58          17.34          17.34   \n",
       "2          22.21          19.78          23.16          22.23          20.71   \n",
       "3          17.88          19.15          23.25          25.72          27.75   \n",
       "4           9.32           9.45           9.58           9.86           9.83   \n",
       "\n",
       "   Positivity-02  Positivity-01  Positivity-00 PosTestCategory  \n",
       "0          17.48          19.58          19.28            High  \n",
       "1          17.34          18.36          18.36            High  \n",
       "2          18.91          18.73          18.19            High  \n",
       "3          23.91          23.78          17.89            High  \n",
       "4           9.45           9.30          14.79            High  "
      ]
     },
     "execution_count": 3,
     "metadata": {},
     "output_type": "execute_result"
    }
   ],
   "source": [
    "df = df[df.ReportDate==max(df.ReportDate)]\n",
    "df.head()"
   ]
  },
  {
   "cell_type": "code",
   "execution_count": 4,
   "metadata": {},
   "outputs": [
    {
     "data": {
      "text/html": [
       "<div>\n",
       "<style scoped>\n",
       "    .dataframe tbody tr th:only-of-type {\n",
       "        vertical-align: middle;\n",
       "    }\n",
       "\n",
       "    .dataframe tbody tr th {\n",
       "        vertical-align: top;\n",
       "    }\n",
       "\n",
       "    .dataframe thead th {\n",
       "        text-align: right;\n",
       "    }\n",
       "</style>\n",
       "<table border=\"1\" class=\"dataframe\">\n",
       "  <thead>\n",
       "    <tr style=\"text-align: right;\">\n",
       "      <th></th>\n",
       "      <th>ReportDate</th>\n",
       "      <th>State</th>\n",
       "      <th>Positivity</th>\n",
       "      <th>PositivityIs</th>\n",
       "      <th>PosTestCategory</th>\n",
       "    </tr>\n",
       "  </thead>\n",
       "  <tbody>\n",
       "    <tr>\n",
       "      <th>0</th>\n",
       "      <td>2020-09-09</td>\n",
       "      <td>North Dakota</td>\n",
       "      <td>19.28</td>\n",
       "      <td>Increasing</td>\n",
       "      <td>High</td>\n",
       "    </tr>\n",
       "    <tr>\n",
       "      <th>1</th>\n",
       "      <td>2020-09-09</td>\n",
       "      <td>Kansas</td>\n",
       "      <td>18.36</td>\n",
       "      <td>Increasing</td>\n",
       "      <td>High</td>\n",
       "    </tr>\n",
       "    <tr>\n",
       "      <th>2</th>\n",
       "      <td>2020-09-09</td>\n",
       "      <td>South Dakota</td>\n",
       "      <td>18.19</td>\n",
       "      <td>Flat</td>\n",
       "      <td>High</td>\n",
       "    </tr>\n",
       "    <tr>\n",
       "      <th>3</th>\n",
       "      <td>2020-09-09</td>\n",
       "      <td>Alabama</td>\n",
       "      <td>17.89</td>\n",
       "      <td>Increasing</td>\n",
       "      <td>High</td>\n",
       "    </tr>\n",
       "    <tr>\n",
       "      <th>4</th>\n",
       "      <td>2020-09-09</td>\n",
       "      <td>Oklahoma</td>\n",
       "      <td>14.79</td>\n",
       "      <td>Increasing</td>\n",
       "      <td>High</td>\n",
       "    </tr>\n",
       "  </tbody>\n",
       "</table>\n",
       "</div>"
      ],
      "text/plain": [
       "   ReportDate         State  Positivity PositivityIs PosTestCategory\n",
       "0  2020-09-09  North Dakota       19.28   Increasing            High\n",
       "1  2020-09-09        Kansas       18.36   Increasing            High\n",
       "2  2020-09-09  South Dakota       18.19         Flat            High\n",
       "3  2020-09-09       Alabama       17.89   Increasing            High\n",
       "4  2020-09-09      Oklahoma       14.79   Increasing            High"
      ]
     },
     "execution_count": 4,
     "metadata": {},
     "output_type": "execute_result"
    }
   ],
   "source": [
    "df = df[[\"ReportDate\",\"State\",\"Positivity\",\"PositivityIs\", \"PosTestCategory\"]]\n",
    "df.head()"
   ]
  },
  {
   "cell_type": "code",
   "execution_count": 5,
   "metadata": {},
   "outputs": [
    {
     "data": {
      "text/html": [
       "<div>\n",
       "<style scoped>\n",
       "    .dataframe tbody tr th:only-of-type {\n",
       "        vertical-align: middle;\n",
       "    }\n",
       "\n",
       "    .dataframe tbody tr th {\n",
       "        vertical-align: top;\n",
       "    }\n",
       "\n",
       "    .dataframe thead th {\n",
       "        text-align: right;\n",
       "    }\n",
       "</style>\n",
       "<table border=\"1\" class=\"dataframe\">\n",
       "  <thead>\n",
       "    <tr style=\"text-align: right;\">\n",
       "      <th></th>\n",
       "      <th>ReportDate</th>\n",
       "      <th>State</th>\n",
       "      <th>Positivity</th>\n",
       "      <th>PositivityIs</th>\n",
       "      <th>PosTestCategory</th>\n",
       "    </tr>\n",
       "  </thead>\n",
       "  <tbody>\n",
       "    <tr>\n",
       "      <th>0</th>\n",
       "      <td>2020-09-09</td>\n",
       "      <td>North Dakota</td>\n",
       "      <td>19.28</td>\n",
       "      <td>Increasing</td>\n",
       "      <td>High</td>\n",
       "    </tr>\n",
       "    <tr>\n",
       "      <th>1</th>\n",
       "      <td>2020-09-09</td>\n",
       "      <td>Kansas</td>\n",
       "      <td>18.36</td>\n",
       "      <td>Increasing</td>\n",
       "      <td>High</td>\n",
       "    </tr>\n",
       "    <tr>\n",
       "      <th>2</th>\n",
       "      <td>2020-09-09</td>\n",
       "      <td>South Dakota</td>\n",
       "      <td>18.19</td>\n",
       "      <td>Flat</td>\n",
       "      <td>High</td>\n",
       "    </tr>\n",
       "    <tr>\n",
       "      <th>3</th>\n",
       "      <td>2020-09-09</td>\n",
       "      <td>Alabama</td>\n",
       "      <td>17.89</td>\n",
       "      <td>Increasing</td>\n",
       "      <td>High</td>\n",
       "    </tr>\n",
       "    <tr>\n",
       "      <th>4</th>\n",
       "      <td>2020-09-09</td>\n",
       "      <td>Oklahoma</td>\n",
       "      <td>14.79</td>\n",
       "      <td>Increasing</td>\n",
       "      <td>High</td>\n",
       "    </tr>\n",
       "    <tr>\n",
       "      <th>5</th>\n",
       "      <td>2020-09-09</td>\n",
       "      <td>Iowa</td>\n",
       "      <td>14.73</td>\n",
       "      <td>Decreasing</td>\n",
       "      <td>High</td>\n",
       "    </tr>\n",
       "    <tr>\n",
       "      <th>6</th>\n",
       "      <td>2020-09-09</td>\n",
       "      <td>Idaho</td>\n",
       "      <td>14.31</td>\n",
       "      <td>Flat</td>\n",
       "      <td>High</td>\n",
       "    </tr>\n",
       "    <tr>\n",
       "      <th>7</th>\n",
       "      <td>2020-09-09</td>\n",
       "      <td>Florida</td>\n",
       "      <td>13.51</td>\n",
       "      <td>Flat</td>\n",
       "      <td>High</td>\n",
       "    </tr>\n",
       "    <tr>\n",
       "      <th>8</th>\n",
       "      <td>2020-09-09</td>\n",
       "      <td>Missouri</td>\n",
       "      <td>13.37</td>\n",
       "      <td>Flat</td>\n",
       "      <td>High</td>\n",
       "    </tr>\n",
       "    <tr>\n",
       "      <th>9</th>\n",
       "      <td>2020-09-09</td>\n",
       "      <td>Mississippi</td>\n",
       "      <td>13.11</td>\n",
       "      <td>Decreasing</td>\n",
       "      <td>High</td>\n",
       "    </tr>\n",
       "    <tr>\n",
       "      <th>10</th>\n",
       "      <td>2020-09-09</td>\n",
       "      <td>Wisconsin</td>\n",
       "      <td>11.56</td>\n",
       "      <td>Increasing</td>\n",
       "      <td>High</td>\n",
       "    </tr>\n",
       "    <tr>\n",
       "      <th>11</th>\n",
       "      <td>2020-09-09</td>\n",
       "      <td>Nebraska</td>\n",
       "      <td>11.09</td>\n",
       "      <td>Increasing</td>\n",
       "      <td>High</td>\n",
       "    </tr>\n",
       "    <tr>\n",
       "      <th>12</th>\n",
       "      <td>2020-09-09</td>\n",
       "      <td>Nevada</td>\n",
       "      <td>10.42</td>\n",
       "      <td>Decreasing</td>\n",
       "      <td>High</td>\n",
       "    </tr>\n",
       "    <tr>\n",
       "      <th>13</th>\n",
       "      <td>2020-09-09</td>\n",
       "      <td>South Carolina</td>\n",
       "      <td>10.15</td>\n",
       "      <td>Decreasing</td>\n",
       "      <td>High</td>\n",
       "    </tr>\n",
       "  </tbody>\n",
       "</table>\n",
       "</div>"
      ],
      "text/plain": [
       "    ReportDate           State  Positivity PositivityIs PosTestCategory\n",
       "0   2020-09-09    North Dakota       19.28   Increasing            High\n",
       "1   2020-09-09          Kansas       18.36   Increasing            High\n",
       "2   2020-09-09    South Dakota       18.19         Flat            High\n",
       "3   2020-09-09         Alabama       17.89   Increasing            High\n",
       "4   2020-09-09        Oklahoma       14.79   Increasing            High\n",
       "5   2020-09-09            Iowa       14.73   Decreasing            High\n",
       "6   2020-09-09           Idaho       14.31         Flat            High\n",
       "7   2020-09-09         Florida       13.51         Flat            High\n",
       "8   2020-09-09        Missouri       13.37         Flat            High\n",
       "9   2020-09-09     Mississippi       13.11   Decreasing            High\n",
       "10  2020-09-09       Wisconsin       11.56   Increasing            High\n",
       "11  2020-09-09        Nebraska       11.09   Increasing            High\n",
       "12  2020-09-09          Nevada       10.42   Decreasing            High\n",
       "13  2020-09-09  South Carolina       10.15   Decreasing            High"
      ]
     },
     "execution_count": 5,
     "metadata": {},
     "output_type": "execute_result"
    }
   ],
   "source": [
    "df = df[df.PosTestCategory==\"High\"]\n",
    "df"
   ]
  },
  {
   "cell_type": "code",
   "execution_count": 6,
   "metadata": {},
   "outputs": [
    {
     "data": {
      "text/html": [
       "<div>\n",
       "<style scoped>\n",
       "    .dataframe tbody tr th:only-of-type {\n",
       "        vertical-align: middle;\n",
       "    }\n",
       "\n",
       "    .dataframe tbody tr th {\n",
       "        vertical-align: top;\n",
       "    }\n",
       "\n",
       "    .dataframe thead th {\n",
       "        text-align: right;\n",
       "    }\n",
       "</style>\n",
       "<table border=\"1\" class=\"dataframe\">\n",
       "  <thead>\n",
       "    <tr style=\"text-align: right;\">\n",
       "      <th></th>\n",
       "      <th>ReportDate</th>\n",
       "      <th>State</th>\n",
       "      <th>Positivity</th>\n",
       "      <th>PositivityIs</th>\n",
       "      <th>PosTestCategory</th>\n",
       "    </tr>\n",
       "  </thead>\n",
       "  <tbody>\n",
       "    <tr>\n",
       "      <th>13</th>\n",
       "      <td>2020-09-09</td>\n",
       "      <td>South Carolina</td>\n",
       "      <td>10.15</td>\n",
       "      <td>Decreasing</td>\n",
       "      <td>High</td>\n",
       "    </tr>\n",
       "    <tr>\n",
       "      <th>12</th>\n",
       "      <td>2020-09-09</td>\n",
       "      <td>Nevada</td>\n",
       "      <td>10.42</td>\n",
       "      <td>Decreasing</td>\n",
       "      <td>High</td>\n",
       "    </tr>\n",
       "    <tr>\n",
       "      <th>11</th>\n",
       "      <td>2020-09-09</td>\n",
       "      <td>Nebraska</td>\n",
       "      <td>11.09</td>\n",
       "      <td>Increasing</td>\n",
       "      <td>High</td>\n",
       "    </tr>\n",
       "    <tr>\n",
       "      <th>10</th>\n",
       "      <td>2020-09-09</td>\n",
       "      <td>Wisconsin</td>\n",
       "      <td>11.56</td>\n",
       "      <td>Increasing</td>\n",
       "      <td>High</td>\n",
       "    </tr>\n",
       "    <tr>\n",
       "      <th>9</th>\n",
       "      <td>2020-09-09</td>\n",
       "      <td>Mississippi</td>\n",
       "      <td>13.11</td>\n",
       "      <td>Decreasing</td>\n",
       "      <td>High</td>\n",
       "    </tr>\n",
       "    <tr>\n",
       "      <th>8</th>\n",
       "      <td>2020-09-09</td>\n",
       "      <td>Missouri</td>\n",
       "      <td>13.37</td>\n",
       "      <td>Flat</td>\n",
       "      <td>High</td>\n",
       "    </tr>\n",
       "    <tr>\n",
       "      <th>7</th>\n",
       "      <td>2020-09-09</td>\n",
       "      <td>Florida</td>\n",
       "      <td>13.51</td>\n",
       "      <td>Flat</td>\n",
       "      <td>High</td>\n",
       "    </tr>\n",
       "    <tr>\n",
       "      <th>6</th>\n",
       "      <td>2020-09-09</td>\n",
       "      <td>Idaho</td>\n",
       "      <td>14.31</td>\n",
       "      <td>Flat</td>\n",
       "      <td>High</td>\n",
       "    </tr>\n",
       "    <tr>\n",
       "      <th>5</th>\n",
       "      <td>2020-09-09</td>\n",
       "      <td>Iowa</td>\n",
       "      <td>14.73</td>\n",
       "      <td>Decreasing</td>\n",
       "      <td>High</td>\n",
       "    </tr>\n",
       "    <tr>\n",
       "      <th>4</th>\n",
       "      <td>2020-09-09</td>\n",
       "      <td>Oklahoma</td>\n",
       "      <td>14.79</td>\n",
       "      <td>Increasing</td>\n",
       "      <td>High</td>\n",
       "    </tr>\n",
       "    <tr>\n",
       "      <th>3</th>\n",
       "      <td>2020-09-09</td>\n",
       "      <td>Alabama</td>\n",
       "      <td>17.89</td>\n",
       "      <td>Increasing</td>\n",
       "      <td>High</td>\n",
       "    </tr>\n",
       "    <tr>\n",
       "      <th>2</th>\n",
       "      <td>2020-09-09</td>\n",
       "      <td>South Dakota</td>\n",
       "      <td>18.19</td>\n",
       "      <td>Flat</td>\n",
       "      <td>High</td>\n",
       "    </tr>\n",
       "    <tr>\n",
       "      <th>1</th>\n",
       "      <td>2020-09-09</td>\n",
       "      <td>Kansas</td>\n",
       "      <td>18.36</td>\n",
       "      <td>Increasing</td>\n",
       "      <td>High</td>\n",
       "    </tr>\n",
       "    <tr>\n",
       "      <th>0</th>\n",
       "      <td>2020-09-09</td>\n",
       "      <td>North Dakota</td>\n",
       "      <td>19.28</td>\n",
       "      <td>Increasing</td>\n",
       "      <td>High</td>\n",
       "    </tr>\n",
       "  </tbody>\n",
       "</table>\n",
       "</div>"
      ],
      "text/plain": [
       "    ReportDate           State  Positivity PositivityIs PosTestCategory\n",
       "13  2020-09-09  South Carolina       10.15   Decreasing            High\n",
       "12  2020-09-09          Nevada       10.42   Decreasing            High\n",
       "11  2020-09-09        Nebraska       11.09   Increasing            High\n",
       "10  2020-09-09       Wisconsin       11.56   Increasing            High\n",
       "9   2020-09-09     Mississippi       13.11   Decreasing            High\n",
       "8   2020-09-09        Missouri       13.37         Flat            High\n",
       "7   2020-09-09         Florida       13.51         Flat            High\n",
       "6   2020-09-09           Idaho       14.31         Flat            High\n",
       "5   2020-09-09            Iowa       14.73   Decreasing            High\n",
       "4   2020-09-09        Oklahoma       14.79   Increasing            High\n",
       "3   2020-09-09         Alabama       17.89   Increasing            High\n",
       "2   2020-09-09    South Dakota       18.19         Flat            High\n",
       "1   2020-09-09          Kansas       18.36   Increasing            High\n",
       "0   2020-09-09    North Dakota       19.28   Increasing            High"
      ]
     },
     "execution_count": 6,
     "metadata": {},
     "output_type": "execute_result"
    }
   ],
   "source": [
    "df.sort_values(by=\"Positivity\", ascending=True, inplace=True)\n",
    "df"
   ]
  },
  {
   "cell_type": "code",
   "execution_count": 7,
   "metadata": {},
   "outputs": [
    {
     "data": {
      "text/html": [
       "<div>\n",
       "<style scoped>\n",
       "    .dataframe tbody tr th:only-of-type {\n",
       "        vertical-align: middle;\n",
       "    }\n",
       "\n",
       "    .dataframe tbody tr th {\n",
       "        vertical-align: top;\n",
       "    }\n",
       "\n",
       "    .dataframe thead th {\n",
       "        text-align: right;\n",
       "    }\n",
       "</style>\n",
       "<table border=\"1\" class=\"dataframe\">\n",
       "  <thead>\n",
       "    <tr style=\"text-align: right;\">\n",
       "      <th></th>\n",
       "      <th>ReportDate</th>\n",
       "      <th>State</th>\n",
       "      <th>Positivity</th>\n",
       "      <th>PositivityIs</th>\n",
       "      <th>PosTestCategory</th>\n",
       "      <th>text</th>\n",
       "    </tr>\n",
       "  </thead>\n",
       "  <tbody>\n",
       "    <tr>\n",
       "      <th>13</th>\n",
       "      <td>2020-09-09</td>\n",
       "      <td>South Carolina</td>\n",
       "      <td>10.15</td>\n",
       "      <td>Decreasing</td>\n",
       "      <td>High</td>\n",
       "      <td>10.15% (Decreasing)</td>\n",
       "    </tr>\n",
       "    <tr>\n",
       "      <th>12</th>\n",
       "      <td>2020-09-09</td>\n",
       "      <td>Nevada</td>\n",
       "      <td>10.42</td>\n",
       "      <td>Decreasing</td>\n",
       "      <td>High</td>\n",
       "      <td>10.42% (Decreasing)</td>\n",
       "    </tr>\n",
       "    <tr>\n",
       "      <th>11</th>\n",
       "      <td>2020-09-09</td>\n",
       "      <td>Nebraska</td>\n",
       "      <td>11.09</td>\n",
       "      <td>Increasing</td>\n",
       "      <td>High</td>\n",
       "      <td>11.09% (Increasing)</td>\n",
       "    </tr>\n",
       "    <tr>\n",
       "      <th>10</th>\n",
       "      <td>2020-09-09</td>\n",
       "      <td>Wisconsin</td>\n",
       "      <td>11.56</td>\n",
       "      <td>Increasing</td>\n",
       "      <td>High</td>\n",
       "      <td>11.56% (Increasing)</td>\n",
       "    </tr>\n",
       "    <tr>\n",
       "      <th>9</th>\n",
       "      <td>2020-09-09</td>\n",
       "      <td>Mississippi</td>\n",
       "      <td>13.11</td>\n",
       "      <td>Decreasing</td>\n",
       "      <td>High</td>\n",
       "      <td>13.11% (Decreasing)</td>\n",
       "    </tr>\n",
       "  </tbody>\n",
       "</table>\n",
       "</div>"
      ],
      "text/plain": [
       "    ReportDate           State  Positivity PositivityIs PosTestCategory  \\\n",
       "13  2020-09-09  South Carolina       10.15   Decreasing            High   \n",
       "12  2020-09-09          Nevada       10.42   Decreasing            High   \n",
       "11  2020-09-09        Nebraska       11.09   Increasing            High   \n",
       "10  2020-09-09       Wisconsin       11.56   Increasing            High   \n",
       "9   2020-09-09     Mississippi       13.11   Decreasing            High   \n",
       "\n",
       "                   text  \n",
       "13  10.15% (Decreasing)  \n",
       "12  10.42% (Decreasing)  \n",
       "11  11.09% (Increasing)  \n",
       "10  11.56% (Increasing)  \n",
       "9   13.11% (Decreasing)  "
      ]
     },
     "execution_count": 7,
     "metadata": {},
     "output_type": "execute_result"
    }
   ],
   "source": [
    "df[\"text\"] = df[\"Positivity\"].astype(str) + \"% (\" + df[\"PositivityIs\"] +\")\"\n",
    "df.head()"
   ]
  },
  {
   "cell_type": "code",
   "execution_count": 8,
   "metadata": {},
   "outputs": [],
   "source": [
    "# df.loc[df.PositivityIs==\"Increasing\", \"colors\"] = 'rgb(220, 38, 127)'\n",
    "# df.loc[df.PositivityIs==\"Decreasing\", \"colors\"] = 'rgb(120, 94, 240)'\n",
    "# df.loc[df.PositivityIs==\"Flat\", \"colors\"] = 'rgb(254, 97, 0)'"
   ]
  },
  {
   "cell_type": "code",
   "execution_count": 9,
   "metadata": {},
   "outputs": [],
   "source": [
    "# colors = df[\"colors\"]"
   ]
  },
  {
   "cell_type": "code",
   "execution_count": 10,
   "metadata": {},
   "outputs": [],
   "source": [
    "incr = df[df.PositivityIs==\"Increasing\"]\n",
    "decr = df[df.PositivityIs==\"Decreasing\"]\n",
    "flat = df[df.PositivityIs==\"Flat\"]"
   ]
  },
  {
   "cell_type": "code",
   "execution_count": 23,
   "metadata": {},
   "outputs": [
    {
     "data": {
      "application/vnd.plotly.v1+json": {
       "config": {
        "plotlyServerURL": "https://plot.ly"
       },
       "data": [
        {
         "hovertemplate": "<extra></extra><br>Positivity: %{x:.1f}%<br>State: %{y}<br>",
         "marker": {
          "color": "rgb(44,123,182)"
         },
         "name": "Decreasing",
         "orientation": "h",
         "text": [
          "10.15% (Decreasing)",
          "10.42% (Decreasing)",
          "13.11% (Decreasing)",
          "14.73% (Decreasing)"
         ],
         "textposition": "auto",
         "type": "bar",
         "x": [
          10.15,
          10.42,
          13.11,
          14.73
         ],
         "y": [
          "South Carolina",
          "Nevada",
          "Mississippi",
          "Iowa"
         ]
        },
        {
         "hovertemplate": "<extra></extra><br>Positivity: %{x:.1f}%<br>State: %{y}<br>",
         "marker": {
          "color": "rgb(253,174,97)"
         },
         "name": "Flat",
         "orientation": "h",
         "text": [
          "13.37% (Flat)",
          "13.51% (Flat)",
          "14.31% (Flat)",
          "18.19% (Flat)"
         ],
         "textposition": "auto",
         "type": "bar",
         "x": [
          13.37,
          13.51,
          14.31,
          18.19
         ],
         "y": [
          "Missouri",
          "Florida",
          "Idaho",
          "South Dakota"
         ]
        },
        {
         "hovertemplate": "<extra></extra><br>Positivity: %{x:.1f}%<br>State: %{y}<br>",
         "marker": {
          "color": "rgb(215,25,28)"
         },
         "name": "Increasing",
         "orientation": "h",
         "text": [
          "11.09% (Increasing)",
          "11.56% (Increasing)",
          "14.79% (Increasing)",
          "17.89% (Increasing)",
          "18.36% (Increasing)",
          "19.28% (Increasing)"
         ],
         "textposition": "auto",
         "type": "bar",
         "x": [
          11.09,
          11.56,
          14.79,
          17.89,
          18.36,
          19.28
         ],
         "y": [
          "Nebraska",
          "Wisconsin",
          "Oklahoma",
          "Alabama",
          "Kansas",
          "North Dakota"
         ]
        }
       ],
       "layout": {
        "font": {
         "family": "Courier New, monospace",
         "size": 16
        },
        "showlegend": true,
        "template": {
         "data": {
          "bar": [
           {
            "error_x": {
             "color": "#2a3f5f"
            },
            "error_y": {
             "color": "#2a3f5f"
            },
            "marker": {
             "line": {
              "color": "#E5ECF6",
              "width": 0.5
             }
            },
            "type": "bar"
           }
          ],
          "barpolar": [
           {
            "marker": {
             "line": {
              "color": "#E5ECF6",
              "width": 0.5
             }
            },
            "type": "barpolar"
           }
          ],
          "carpet": [
           {
            "aaxis": {
             "endlinecolor": "#2a3f5f",
             "gridcolor": "white",
             "linecolor": "white",
             "minorgridcolor": "white",
             "startlinecolor": "#2a3f5f"
            },
            "baxis": {
             "endlinecolor": "#2a3f5f",
             "gridcolor": "white",
             "linecolor": "white",
             "minorgridcolor": "white",
             "startlinecolor": "#2a3f5f"
            },
            "type": "carpet"
           }
          ],
          "choropleth": [
           {
            "colorbar": {
             "outlinewidth": 0,
             "ticks": ""
            },
            "type": "choropleth"
           }
          ],
          "contour": [
           {
            "colorbar": {
             "outlinewidth": 0,
             "ticks": ""
            },
            "colorscale": [
             [
              0,
              "#0d0887"
             ],
             [
              0.1111111111111111,
              "#46039f"
             ],
             [
              0.2222222222222222,
              "#7201a8"
             ],
             [
              0.3333333333333333,
              "#9c179e"
             ],
             [
              0.4444444444444444,
              "#bd3786"
             ],
             [
              0.5555555555555556,
              "#d8576b"
             ],
             [
              0.6666666666666666,
              "#ed7953"
             ],
             [
              0.7777777777777778,
              "#fb9f3a"
             ],
             [
              0.8888888888888888,
              "#fdca26"
             ],
             [
              1,
              "#f0f921"
             ]
            ],
            "type": "contour"
           }
          ],
          "contourcarpet": [
           {
            "colorbar": {
             "outlinewidth": 0,
             "ticks": ""
            },
            "type": "contourcarpet"
           }
          ],
          "heatmap": [
           {
            "colorbar": {
             "outlinewidth": 0,
             "ticks": ""
            },
            "colorscale": [
             [
              0,
              "#0d0887"
             ],
             [
              0.1111111111111111,
              "#46039f"
             ],
             [
              0.2222222222222222,
              "#7201a8"
             ],
             [
              0.3333333333333333,
              "#9c179e"
             ],
             [
              0.4444444444444444,
              "#bd3786"
             ],
             [
              0.5555555555555556,
              "#d8576b"
             ],
             [
              0.6666666666666666,
              "#ed7953"
             ],
             [
              0.7777777777777778,
              "#fb9f3a"
             ],
             [
              0.8888888888888888,
              "#fdca26"
             ],
             [
              1,
              "#f0f921"
             ]
            ],
            "type": "heatmap"
           }
          ],
          "heatmapgl": [
           {
            "colorbar": {
             "outlinewidth": 0,
             "ticks": ""
            },
            "colorscale": [
             [
              0,
              "#0d0887"
             ],
             [
              0.1111111111111111,
              "#46039f"
             ],
             [
              0.2222222222222222,
              "#7201a8"
             ],
             [
              0.3333333333333333,
              "#9c179e"
             ],
             [
              0.4444444444444444,
              "#bd3786"
             ],
             [
              0.5555555555555556,
              "#d8576b"
             ],
             [
              0.6666666666666666,
              "#ed7953"
             ],
             [
              0.7777777777777778,
              "#fb9f3a"
             ],
             [
              0.8888888888888888,
              "#fdca26"
             ],
             [
              1,
              "#f0f921"
             ]
            ],
            "type": "heatmapgl"
           }
          ],
          "histogram": [
           {
            "marker": {
             "colorbar": {
              "outlinewidth": 0,
              "ticks": ""
             }
            },
            "type": "histogram"
           }
          ],
          "histogram2d": [
           {
            "colorbar": {
             "outlinewidth": 0,
             "ticks": ""
            },
            "colorscale": [
             [
              0,
              "#0d0887"
             ],
             [
              0.1111111111111111,
              "#46039f"
             ],
             [
              0.2222222222222222,
              "#7201a8"
             ],
             [
              0.3333333333333333,
              "#9c179e"
             ],
             [
              0.4444444444444444,
              "#bd3786"
             ],
             [
              0.5555555555555556,
              "#d8576b"
             ],
             [
              0.6666666666666666,
              "#ed7953"
             ],
             [
              0.7777777777777778,
              "#fb9f3a"
             ],
             [
              0.8888888888888888,
              "#fdca26"
             ],
             [
              1,
              "#f0f921"
             ]
            ],
            "type": "histogram2d"
           }
          ],
          "histogram2dcontour": [
           {
            "colorbar": {
             "outlinewidth": 0,
             "ticks": ""
            },
            "colorscale": [
             [
              0,
              "#0d0887"
             ],
             [
              0.1111111111111111,
              "#46039f"
             ],
             [
              0.2222222222222222,
              "#7201a8"
             ],
             [
              0.3333333333333333,
              "#9c179e"
             ],
             [
              0.4444444444444444,
              "#bd3786"
             ],
             [
              0.5555555555555556,
              "#d8576b"
             ],
             [
              0.6666666666666666,
              "#ed7953"
             ],
             [
              0.7777777777777778,
              "#fb9f3a"
             ],
             [
              0.8888888888888888,
              "#fdca26"
             ],
             [
              1,
              "#f0f921"
             ]
            ],
            "type": "histogram2dcontour"
           }
          ],
          "mesh3d": [
           {
            "colorbar": {
             "outlinewidth": 0,
             "ticks": ""
            },
            "type": "mesh3d"
           }
          ],
          "parcoords": [
           {
            "line": {
             "colorbar": {
              "outlinewidth": 0,
              "ticks": ""
             }
            },
            "type": "parcoords"
           }
          ],
          "pie": [
           {
            "automargin": true,
            "type": "pie"
           }
          ],
          "scatter": [
           {
            "marker": {
             "colorbar": {
              "outlinewidth": 0,
              "ticks": ""
             }
            },
            "type": "scatter"
           }
          ],
          "scatter3d": [
           {
            "line": {
             "colorbar": {
              "outlinewidth": 0,
              "ticks": ""
             }
            },
            "marker": {
             "colorbar": {
              "outlinewidth": 0,
              "ticks": ""
             }
            },
            "type": "scatter3d"
           }
          ],
          "scattercarpet": [
           {
            "marker": {
             "colorbar": {
              "outlinewidth": 0,
              "ticks": ""
             }
            },
            "type": "scattercarpet"
           }
          ],
          "scattergeo": [
           {
            "marker": {
             "colorbar": {
              "outlinewidth": 0,
              "ticks": ""
             }
            },
            "type": "scattergeo"
           }
          ],
          "scattergl": [
           {
            "marker": {
             "colorbar": {
              "outlinewidth": 0,
              "ticks": ""
             }
            },
            "type": "scattergl"
           }
          ],
          "scattermapbox": [
           {
            "marker": {
             "colorbar": {
              "outlinewidth": 0,
              "ticks": ""
             }
            },
            "type": "scattermapbox"
           }
          ],
          "scatterpolar": [
           {
            "marker": {
             "colorbar": {
              "outlinewidth": 0,
              "ticks": ""
             }
            },
            "type": "scatterpolar"
           }
          ],
          "scatterpolargl": [
           {
            "marker": {
             "colorbar": {
              "outlinewidth": 0,
              "ticks": ""
             }
            },
            "type": "scatterpolargl"
           }
          ],
          "scatterternary": [
           {
            "marker": {
             "colorbar": {
              "outlinewidth": 0,
              "ticks": ""
             }
            },
            "type": "scatterternary"
           }
          ],
          "surface": [
           {
            "colorbar": {
             "outlinewidth": 0,
             "ticks": ""
            },
            "colorscale": [
             [
              0,
              "#0d0887"
             ],
             [
              0.1111111111111111,
              "#46039f"
             ],
             [
              0.2222222222222222,
              "#7201a8"
             ],
             [
              0.3333333333333333,
              "#9c179e"
             ],
             [
              0.4444444444444444,
              "#bd3786"
             ],
             [
              0.5555555555555556,
              "#d8576b"
             ],
             [
              0.6666666666666666,
              "#ed7953"
             ],
             [
              0.7777777777777778,
              "#fb9f3a"
             ],
             [
              0.8888888888888888,
              "#fdca26"
             ],
             [
              1,
              "#f0f921"
             ]
            ],
            "type": "surface"
           }
          ],
          "table": [
           {
            "cells": {
             "fill": {
              "color": "#EBF0F8"
             },
             "line": {
              "color": "white"
             }
            },
            "header": {
             "fill": {
              "color": "#C8D4E3"
             },
             "line": {
              "color": "white"
             }
            },
            "type": "table"
           }
          ]
         },
         "layout": {
          "annotationdefaults": {
           "arrowcolor": "#2a3f5f",
           "arrowhead": 0,
           "arrowwidth": 1
          },
          "coloraxis": {
           "colorbar": {
            "outlinewidth": 0,
            "ticks": ""
           }
          },
          "colorscale": {
           "diverging": [
            [
             0,
             "#8e0152"
            ],
            [
             0.1,
             "#c51b7d"
            ],
            [
             0.2,
             "#de77ae"
            ],
            [
             0.3,
             "#f1b6da"
            ],
            [
             0.4,
             "#fde0ef"
            ],
            [
             0.5,
             "#f7f7f7"
            ],
            [
             0.6,
             "#e6f5d0"
            ],
            [
             0.7,
             "#b8e186"
            ],
            [
             0.8,
             "#7fbc41"
            ],
            [
             0.9,
             "#4d9221"
            ],
            [
             1,
             "#276419"
            ]
           ],
           "sequential": [
            [
             0,
             "#0d0887"
            ],
            [
             0.1111111111111111,
             "#46039f"
            ],
            [
             0.2222222222222222,
             "#7201a8"
            ],
            [
             0.3333333333333333,
             "#9c179e"
            ],
            [
             0.4444444444444444,
             "#bd3786"
            ],
            [
             0.5555555555555556,
             "#d8576b"
            ],
            [
             0.6666666666666666,
             "#ed7953"
            ],
            [
             0.7777777777777778,
             "#fb9f3a"
            ],
            [
             0.8888888888888888,
             "#fdca26"
            ],
            [
             1,
             "#f0f921"
            ]
           ],
           "sequentialminus": [
            [
             0,
             "#0d0887"
            ],
            [
             0.1111111111111111,
             "#46039f"
            ],
            [
             0.2222222222222222,
             "#7201a8"
            ],
            [
             0.3333333333333333,
             "#9c179e"
            ],
            [
             0.4444444444444444,
             "#bd3786"
            ],
            [
             0.5555555555555556,
             "#d8576b"
            ],
            [
             0.6666666666666666,
             "#ed7953"
            ],
            [
             0.7777777777777778,
             "#fb9f3a"
            ],
            [
             0.8888888888888888,
             "#fdca26"
            ],
            [
             1,
             "#f0f921"
            ]
           ]
          },
          "colorway": [
           "#636efa",
           "#EF553B",
           "#00cc96",
           "#ab63fa",
           "#FFA15A",
           "#19d3f3",
           "#FF6692",
           "#B6E880",
           "#FF97FF",
           "#FECB52"
          ],
          "font": {
           "color": "#2a3f5f"
          },
          "geo": {
           "bgcolor": "white",
           "lakecolor": "white",
           "landcolor": "#E5ECF6",
           "showlakes": true,
           "showland": true,
           "subunitcolor": "white"
          },
          "hoverlabel": {
           "align": "left"
          },
          "hovermode": "closest",
          "mapbox": {
           "style": "light"
          },
          "paper_bgcolor": "white",
          "plot_bgcolor": "#E5ECF6",
          "polar": {
           "angularaxis": {
            "gridcolor": "white",
            "linecolor": "white",
            "ticks": ""
           },
           "bgcolor": "#E5ECF6",
           "radialaxis": {
            "gridcolor": "white",
            "linecolor": "white",
            "ticks": ""
           }
          },
          "scene": {
           "xaxis": {
            "backgroundcolor": "#E5ECF6",
            "gridcolor": "white",
            "gridwidth": 2,
            "linecolor": "white",
            "showbackground": true,
            "ticks": "",
            "zerolinecolor": "white"
           },
           "yaxis": {
            "backgroundcolor": "#E5ECF6",
            "gridcolor": "white",
            "gridwidth": 2,
            "linecolor": "white",
            "showbackground": true,
            "ticks": "",
            "zerolinecolor": "white"
           },
           "zaxis": {
            "backgroundcolor": "#E5ECF6",
            "gridcolor": "white",
            "gridwidth": 2,
            "linecolor": "white",
            "showbackground": true,
            "ticks": "",
            "zerolinecolor": "white"
           }
          },
          "shapedefaults": {
           "line": {
            "color": "#2a3f5f"
           }
          },
          "ternary": {
           "aaxis": {
            "gridcolor": "white",
            "linecolor": "white",
            "ticks": ""
           },
           "baxis": {
            "gridcolor": "white",
            "linecolor": "white",
            "ticks": ""
           },
           "bgcolor": "#E5ECF6",
           "caxis": {
            "gridcolor": "white",
            "linecolor": "white",
            "ticks": ""
           }
          },
          "title": {
           "x": 0.05
          },
          "xaxis": {
           "automargin": true,
           "gridcolor": "white",
           "linecolor": "white",
           "ticks": "",
           "title": {
            "standoff": 15
           },
           "zerolinecolor": "white",
           "zerolinewidth": 2
          },
          "yaxis": {
           "automargin": true,
           "gridcolor": "white",
           "linecolor": "white",
           "ticks": "",
           "title": {
            "standoff": 15
           },
           "zerolinecolor": "white",
           "zerolinewidth": 2
          }
         }
        },
        "title": {
         "font": {
          "family": "Courier New, monospace",
          "size": 14
         },
         "text": "<b>States with Positivity Rates between 10 and 20 Percent</b>",
         "x": 0.5,
         "y": 0.87
        },
        "xaxis": {
         "title": {
          "text": "Positivity (%)"
         }
        }
       }
      },
      "text/html": [
       "<div>\n",
       "        \n",
       "        \n",
       "            <div id=\"b861e841-92a8-4b0f-9d76-1b9bbda00a23\" class=\"plotly-graph-div\" style=\"height:525px; width:100%;\"></div>\n",
       "            <script type=\"text/javascript\">\n",
       "                require([\"plotly\"], function(Plotly) {\n",
       "                    window.PLOTLYENV=window.PLOTLYENV || {};\n",
       "                    \n",
       "                if (document.getElementById(\"b861e841-92a8-4b0f-9d76-1b9bbda00a23\")) {\n",
       "                    Plotly.newPlot(\n",
       "                        'b861e841-92a8-4b0f-9d76-1b9bbda00a23',\n",
       "                        [{\"hovertemplate\": \"<extra></extra><br>Positivity: %{x:.1f}%<br>State: %{y}<br>\", \"marker\": {\"color\": \"rgb(44,123,182)\"}, \"name\": \"Decreasing\", \"orientation\": \"h\", \"text\": [\"10.15% (Decreasing)\", \"10.42% (Decreasing)\", \"13.11% (Decreasing)\", \"14.73% (Decreasing)\"], \"textposition\": \"auto\", \"type\": \"bar\", \"x\": [10.15, 10.42, 13.11, 14.73], \"y\": [\"South Carolina\", \"Nevada\", \"Mississippi\", \"Iowa\"]}, {\"hovertemplate\": \"<extra></extra><br>Positivity: %{x:.1f}%<br>State: %{y}<br>\", \"marker\": {\"color\": \"rgb(253,174,97)\"}, \"name\": \"Flat\", \"orientation\": \"h\", \"text\": [\"13.37% (Flat)\", \"13.51% (Flat)\", \"14.31% (Flat)\", \"18.19% (Flat)\"], \"textposition\": \"auto\", \"type\": \"bar\", \"x\": [13.37, 13.51, 14.31, 18.19], \"y\": [\"Missouri\", \"Florida\", \"Idaho\", \"South Dakota\"]}, {\"hovertemplate\": \"<extra></extra><br>Positivity: %{x:.1f}%<br>State: %{y}<br>\", \"marker\": {\"color\": \"rgb(215,25,28)\"}, \"name\": \"Increasing\", \"orientation\": \"h\", \"text\": [\"11.09% (Increasing)\", \"11.56% (Increasing)\", \"14.79% (Increasing)\", \"17.89% (Increasing)\", \"18.36% (Increasing)\", \"19.28% (Increasing)\"], \"textposition\": \"auto\", \"type\": \"bar\", \"x\": [11.09, 11.56, 14.79, 17.89, 18.36, 19.28], \"y\": [\"Nebraska\", \"Wisconsin\", \"Oklahoma\", \"Alabama\", \"Kansas\", \"North Dakota\"]}],\n",
       "                        {\"font\": {\"family\": \"Courier New, monospace\", \"size\": 16}, \"showlegend\": true, \"template\": {\"data\": {\"bar\": [{\"error_x\": {\"color\": \"#2a3f5f\"}, \"error_y\": {\"color\": \"#2a3f5f\"}, \"marker\": {\"line\": {\"color\": \"#E5ECF6\", \"width\": 0.5}}, \"type\": \"bar\"}], \"barpolar\": [{\"marker\": {\"line\": {\"color\": \"#E5ECF6\", \"width\": 0.5}}, \"type\": \"barpolar\"}], \"carpet\": [{\"aaxis\": {\"endlinecolor\": \"#2a3f5f\", \"gridcolor\": \"white\", \"linecolor\": \"white\", \"minorgridcolor\": \"white\", \"startlinecolor\": \"#2a3f5f\"}, \"baxis\": {\"endlinecolor\": \"#2a3f5f\", \"gridcolor\": \"white\", \"linecolor\": \"white\", \"minorgridcolor\": \"white\", \"startlinecolor\": \"#2a3f5f\"}, \"type\": \"carpet\"}], \"choropleth\": [{\"colorbar\": {\"outlinewidth\": 0, \"ticks\": \"\"}, \"type\": \"choropleth\"}], \"contour\": [{\"colorbar\": {\"outlinewidth\": 0, \"ticks\": \"\"}, \"colorscale\": [[0.0, \"#0d0887\"], [0.1111111111111111, \"#46039f\"], [0.2222222222222222, \"#7201a8\"], [0.3333333333333333, \"#9c179e\"], [0.4444444444444444, \"#bd3786\"], [0.5555555555555556, \"#d8576b\"], [0.6666666666666666, \"#ed7953\"], [0.7777777777777778, \"#fb9f3a\"], [0.8888888888888888, \"#fdca26\"], [1.0, \"#f0f921\"]], \"type\": \"contour\"}], \"contourcarpet\": [{\"colorbar\": {\"outlinewidth\": 0, \"ticks\": \"\"}, \"type\": \"contourcarpet\"}], \"heatmap\": [{\"colorbar\": {\"outlinewidth\": 0, \"ticks\": \"\"}, \"colorscale\": [[0.0, \"#0d0887\"], [0.1111111111111111, \"#46039f\"], [0.2222222222222222, \"#7201a8\"], [0.3333333333333333, \"#9c179e\"], [0.4444444444444444, \"#bd3786\"], [0.5555555555555556, \"#d8576b\"], [0.6666666666666666, \"#ed7953\"], [0.7777777777777778, \"#fb9f3a\"], [0.8888888888888888, \"#fdca26\"], [1.0, \"#f0f921\"]], \"type\": \"heatmap\"}], \"heatmapgl\": [{\"colorbar\": {\"outlinewidth\": 0, \"ticks\": \"\"}, \"colorscale\": [[0.0, \"#0d0887\"], [0.1111111111111111, \"#46039f\"], [0.2222222222222222, \"#7201a8\"], [0.3333333333333333, \"#9c179e\"], [0.4444444444444444, \"#bd3786\"], [0.5555555555555556, \"#d8576b\"], [0.6666666666666666, \"#ed7953\"], [0.7777777777777778, \"#fb9f3a\"], [0.8888888888888888, \"#fdca26\"], [1.0, \"#f0f921\"]], \"type\": \"heatmapgl\"}], \"histogram\": [{\"marker\": {\"colorbar\": {\"outlinewidth\": 0, \"ticks\": \"\"}}, \"type\": \"histogram\"}], \"histogram2d\": [{\"colorbar\": {\"outlinewidth\": 0, \"ticks\": \"\"}, \"colorscale\": [[0.0, \"#0d0887\"], [0.1111111111111111, \"#46039f\"], [0.2222222222222222, \"#7201a8\"], [0.3333333333333333, \"#9c179e\"], [0.4444444444444444, \"#bd3786\"], [0.5555555555555556, \"#d8576b\"], [0.6666666666666666, \"#ed7953\"], [0.7777777777777778, \"#fb9f3a\"], [0.8888888888888888, \"#fdca26\"], [1.0, \"#f0f921\"]], \"type\": \"histogram2d\"}], \"histogram2dcontour\": [{\"colorbar\": {\"outlinewidth\": 0, \"ticks\": \"\"}, \"colorscale\": [[0.0, \"#0d0887\"], [0.1111111111111111, \"#46039f\"], [0.2222222222222222, \"#7201a8\"], [0.3333333333333333, \"#9c179e\"], [0.4444444444444444, \"#bd3786\"], [0.5555555555555556, \"#d8576b\"], [0.6666666666666666, \"#ed7953\"], [0.7777777777777778, \"#fb9f3a\"], [0.8888888888888888, \"#fdca26\"], [1.0, \"#f0f921\"]], \"type\": \"histogram2dcontour\"}], \"mesh3d\": [{\"colorbar\": {\"outlinewidth\": 0, \"ticks\": \"\"}, \"type\": \"mesh3d\"}], \"parcoords\": [{\"line\": {\"colorbar\": {\"outlinewidth\": 0, \"ticks\": \"\"}}, \"type\": \"parcoords\"}], \"pie\": [{\"automargin\": true, \"type\": \"pie\"}], \"scatter\": [{\"marker\": {\"colorbar\": {\"outlinewidth\": 0, \"ticks\": \"\"}}, \"type\": \"scatter\"}], \"scatter3d\": [{\"line\": {\"colorbar\": {\"outlinewidth\": 0, \"ticks\": \"\"}}, \"marker\": {\"colorbar\": {\"outlinewidth\": 0, \"ticks\": \"\"}}, \"type\": \"scatter3d\"}], \"scattercarpet\": [{\"marker\": {\"colorbar\": {\"outlinewidth\": 0, \"ticks\": \"\"}}, \"type\": \"scattercarpet\"}], \"scattergeo\": [{\"marker\": {\"colorbar\": {\"outlinewidth\": 0, \"ticks\": \"\"}}, \"type\": \"scattergeo\"}], \"scattergl\": [{\"marker\": {\"colorbar\": {\"outlinewidth\": 0, \"ticks\": \"\"}}, \"type\": \"scattergl\"}], \"scattermapbox\": [{\"marker\": {\"colorbar\": {\"outlinewidth\": 0, \"ticks\": \"\"}}, \"type\": \"scattermapbox\"}], \"scatterpolar\": [{\"marker\": {\"colorbar\": {\"outlinewidth\": 0, \"ticks\": \"\"}}, \"type\": \"scatterpolar\"}], \"scatterpolargl\": [{\"marker\": {\"colorbar\": {\"outlinewidth\": 0, \"ticks\": \"\"}}, \"type\": \"scatterpolargl\"}], \"scatterternary\": [{\"marker\": {\"colorbar\": {\"outlinewidth\": 0, \"ticks\": \"\"}}, \"type\": \"scatterternary\"}], \"surface\": [{\"colorbar\": {\"outlinewidth\": 0, \"ticks\": \"\"}, \"colorscale\": [[0.0, \"#0d0887\"], [0.1111111111111111, \"#46039f\"], [0.2222222222222222, \"#7201a8\"], [0.3333333333333333, \"#9c179e\"], [0.4444444444444444, \"#bd3786\"], [0.5555555555555556, \"#d8576b\"], [0.6666666666666666, \"#ed7953\"], [0.7777777777777778, \"#fb9f3a\"], [0.8888888888888888, \"#fdca26\"], [1.0, \"#f0f921\"]], \"type\": \"surface\"}], \"table\": [{\"cells\": {\"fill\": {\"color\": \"#EBF0F8\"}, \"line\": {\"color\": \"white\"}}, \"header\": {\"fill\": {\"color\": \"#C8D4E3\"}, \"line\": {\"color\": \"white\"}}, \"type\": \"table\"}]}, \"layout\": {\"annotationdefaults\": {\"arrowcolor\": \"#2a3f5f\", \"arrowhead\": 0, \"arrowwidth\": 1}, \"coloraxis\": {\"colorbar\": {\"outlinewidth\": 0, \"ticks\": \"\"}}, \"colorscale\": {\"diverging\": [[0, \"#8e0152\"], [0.1, \"#c51b7d\"], [0.2, \"#de77ae\"], [0.3, \"#f1b6da\"], [0.4, \"#fde0ef\"], [0.5, \"#f7f7f7\"], [0.6, \"#e6f5d0\"], [0.7, \"#b8e186\"], [0.8, \"#7fbc41\"], [0.9, \"#4d9221\"], [1, \"#276419\"]], \"sequential\": [[0.0, \"#0d0887\"], [0.1111111111111111, \"#46039f\"], [0.2222222222222222, \"#7201a8\"], [0.3333333333333333, \"#9c179e\"], [0.4444444444444444, \"#bd3786\"], [0.5555555555555556, \"#d8576b\"], [0.6666666666666666, \"#ed7953\"], [0.7777777777777778, \"#fb9f3a\"], [0.8888888888888888, \"#fdca26\"], [1.0, \"#f0f921\"]], \"sequentialminus\": [[0.0, \"#0d0887\"], [0.1111111111111111, \"#46039f\"], [0.2222222222222222, \"#7201a8\"], [0.3333333333333333, \"#9c179e\"], [0.4444444444444444, \"#bd3786\"], [0.5555555555555556, \"#d8576b\"], [0.6666666666666666, \"#ed7953\"], [0.7777777777777778, \"#fb9f3a\"], [0.8888888888888888, \"#fdca26\"], [1.0, \"#f0f921\"]]}, \"colorway\": [\"#636efa\", \"#EF553B\", \"#00cc96\", \"#ab63fa\", \"#FFA15A\", \"#19d3f3\", \"#FF6692\", \"#B6E880\", \"#FF97FF\", \"#FECB52\"], \"font\": {\"color\": \"#2a3f5f\"}, \"geo\": {\"bgcolor\": \"white\", \"lakecolor\": \"white\", \"landcolor\": \"#E5ECF6\", \"showlakes\": true, \"showland\": true, \"subunitcolor\": \"white\"}, \"hoverlabel\": {\"align\": \"left\"}, \"hovermode\": \"closest\", \"mapbox\": {\"style\": \"light\"}, \"paper_bgcolor\": \"white\", \"plot_bgcolor\": \"#E5ECF6\", \"polar\": {\"angularaxis\": {\"gridcolor\": \"white\", \"linecolor\": \"white\", \"ticks\": \"\"}, \"bgcolor\": \"#E5ECF6\", \"radialaxis\": {\"gridcolor\": \"white\", \"linecolor\": \"white\", \"ticks\": \"\"}}, \"scene\": {\"xaxis\": {\"backgroundcolor\": \"#E5ECF6\", \"gridcolor\": \"white\", \"gridwidth\": 2, \"linecolor\": \"white\", \"showbackground\": true, \"ticks\": \"\", \"zerolinecolor\": \"white\"}, \"yaxis\": {\"backgroundcolor\": \"#E5ECF6\", \"gridcolor\": \"white\", \"gridwidth\": 2, \"linecolor\": \"white\", \"showbackground\": true, \"ticks\": \"\", \"zerolinecolor\": \"white\"}, \"zaxis\": {\"backgroundcolor\": \"#E5ECF6\", \"gridcolor\": \"white\", \"gridwidth\": 2, \"linecolor\": \"white\", \"showbackground\": true, \"ticks\": \"\", \"zerolinecolor\": \"white\"}}, \"shapedefaults\": {\"line\": {\"color\": \"#2a3f5f\"}}, \"ternary\": {\"aaxis\": {\"gridcolor\": \"white\", \"linecolor\": \"white\", \"ticks\": \"\"}, \"baxis\": {\"gridcolor\": \"white\", \"linecolor\": \"white\", \"ticks\": \"\"}, \"bgcolor\": \"#E5ECF6\", \"caxis\": {\"gridcolor\": \"white\", \"linecolor\": \"white\", \"ticks\": \"\"}}, \"title\": {\"x\": 0.05}, \"xaxis\": {\"automargin\": true, \"gridcolor\": \"white\", \"linecolor\": \"white\", \"ticks\": \"\", \"title\": {\"standoff\": 15}, \"zerolinecolor\": \"white\", \"zerolinewidth\": 2}, \"yaxis\": {\"automargin\": true, \"gridcolor\": \"white\", \"linecolor\": \"white\", \"ticks\": \"\", \"title\": {\"standoff\": 15}, \"zerolinecolor\": \"white\", \"zerolinewidth\": 2}}}, \"title\": {\"font\": {\"family\": \"Courier New, monospace\", \"size\": 14}, \"text\": \"<b>States with Positivity Rates between 10 and 20 Percent</b>\", \"x\": 0.5, \"y\": 0.87}, \"xaxis\": {\"title\": {\"text\": \"Positivity (%)\"}}},\n",
       "                        {\"responsive\": true}\n",
       "                    ).then(function(){\n",
       "                            \n",
       "var gd = document.getElementById('b861e841-92a8-4b0f-9d76-1b9bbda00a23');\n",
       "var x = new MutationObserver(function (mutations, observer) {{\n",
       "        var display = window.getComputedStyle(gd).display;\n",
       "        if (!display || display === 'none') {{\n",
       "            console.log([gd, 'removed!']);\n",
       "            Plotly.purge(gd);\n",
       "            observer.disconnect();\n",
       "        }}\n",
       "}});\n",
       "\n",
       "// Listen for the removal of the full notebook cells\n",
       "var notebookContainer = gd.closest('#notebook-container');\n",
       "if (notebookContainer) {{\n",
       "    x.observe(notebookContainer, {childList: true});\n",
       "}}\n",
       "\n",
       "// Listen for the clearing of the current output cell\n",
       "var outputEl = gd.closest('.output');\n",
       "if (outputEl) {{\n",
       "    x.observe(outputEl, {childList: true});\n",
       "}}\n",
       "\n",
       "                        })\n",
       "                };\n",
       "                });\n",
       "            </script>\n",
       "        </div>"
      ]
     },
     "metadata": {},
     "output_type": "display_data"
    }
   ],
   "source": [
    "# layout = go.Layout(plot_bgcolor='rgb(230,230,230)')\n",
    "\n",
    "# fig = go.Figure(layout=layout)\n",
    "fig = go.Figure()\n",
    "\n",
    "\n",
    "fig.add_trace(go.Bar(\n",
    "            x=decr[\"Positivity\"],\n",
    "            y=decr[\"State\"],\n",
    "            text=decr[\"text\"],\n",
    "            hovertemplate =\n",
    "                '<extra></extra>'+\n",
    "                '<br>Positivity: %{x:.1f}%'+\n",
    "                '<br>State: %{y}<br>',\n",
    "            textposition='auto',\n",
    "            marker_color='rgb(44,123,182)',\n",
    "            name = \"Decreasing\",\n",
    "            orientation='h'))\n",
    "\n",
    "fig.add_trace(go.Bar(\n",
    "            x=flat[\"Positivity\"],\n",
    "            y=flat[\"State\"],\n",
    "            text=flat[\"text\"],\n",
    "            hovertemplate =\n",
    "                '<extra></extra>'+\n",
    "                '<br>Positivity: %{x:.1f}%'+\n",
    "                '<br>State: %{y}<br>',\n",
    "            textposition='auto',\n",
    "            marker_color='rgb(253,174,97)',\n",
    "            name = \"Flat\",\n",
    "            orientation='h'))\n",
    "\n",
    "fig.add_trace(go.Bar(\n",
    "            x=incr[\"Positivity\"],\n",
    "            y=incr[\"State\"],\n",
    "            text=incr[\"text\"],\n",
    "            hovertemplate =\n",
    "                '<extra></extra>'+\n",
    "                '<br>Positivity: %{x:.1f}%'+\n",
    "                '<br>State: %{y}<br>',\n",
    "            textposition='auto',\n",
    "            marker_color='rgb(215,25,28)',\n",
    "            name = \"Increasing\",\n",
    "            orientation='h'))\n",
    "\n",
    "\n",
    "\n",
    "# fig.update_traces(texttemplate='%{text:.1f}%')\n",
    "\n",
    "fig.update_xaxes(title=\"Positivity (%)\")\n",
    "\n",
    "fig.update_layout(title=\"<b>States with Positivity Rates between 10 and 20 Percent</b>\",\n",
    "                 title_x = 0.5, title_y=0.87)\n",
    "\n",
    "# fig.update_layout(yaxis={'categoryorder':'total ascending'})\n",
    "\n",
    "fig.update_layout(showlegend=True, \n",
    "        title=dict(font=dict(\n",
    "            family=\"Courier New, monospace\",\n",
    "            size=14,\n",
    "        )\n",
    "    ),\n",
    "                  \n",
    "        font=dict(\n",
    "        family=\"Courier New, monospace\",\n",
    "        size=16,\n",
    "    ))\n",
    "\n",
    "\n",
    "fig.show()"
   ]
  },
  {
   "cell_type": "code",
   "execution_count": null,
   "metadata": {},
   "outputs": [],
   "source": []
  }
 ],
 "metadata": {
  "kernelspec": {
   "display_name": "Python 3",
   "language": "python",
   "name": "python3"
  },
  "language_info": {
   "codemirror_mode": {
    "name": "ipython",
    "version": 3
   },
   "file_extension": ".py",
   "mimetype": "text/x-python",
   "name": "python",
   "nbconvert_exporter": "python",
   "pygments_lexer": "ipython3",
   "version": "3.6.11"
  }
 },
 "nbformat": 4,
 "nbformat_minor": 4
}
