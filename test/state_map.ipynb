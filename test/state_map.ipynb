{
 "cells": [
  {
   "cell_type": "code",
   "execution_count": null,
   "metadata": {},
   "outputs": [],
   "source": [
    "import plotly.graph_objects as go\n",
    "import plotly.express as px\n",
    "from plotly.subplots import make_subplots\n",
    "import pandas as pd\n",
    "from datetime import date, timedelta, datetime\n",
    "import numpy as np\n",
    "import matplotlib.pyplot as plt\n",
    "\n",
    "from urllib.request import urlopen\n",
    "import json\n"
   ]
  },
  {
   "cell_type": "code",
   "execution_count": null,
   "metadata": {},
   "outputs": [],
   "source": [
    "def get_colors(df, colors, cat_options):\n",
    "    \n",
    "    scheme = []\n",
    "    categories = df.unique()\n",
    "\n",
    "    if len(categories) > len(colors):\n",
    "        print(\"Error in method get_colors: More categories than color options\")\n",
    "        print(\"Exiting...\\n\")\n",
    "        exit()\n",
    "        \n",
    "    if len(cat_options) != len(colors):\n",
    "        print(\"Error in method get_colors: Categories options doesn't match color options\")\n",
    "        print(\"Exiting...\\n\")\n",
    "        exit()\n",
    "        \n",
    "    for i in range(len(cat_options)):\n",
    "        if cat_options[i] in categories:\n",
    "            scheme.append(colors[i])\n",
    "    \n",
    "    return scheme"
   ]
  },
  {
   "cell_type": "code",
   "execution_count": null,
   "metadata": {},
   "outputs": [],
   "source": [
    "with urlopen('https://raw.githubusercontent.com/PublicaMundi/MappingAPI/master/data/geojson/us-states.json') as response:\n",
    "    state_fips = json.load(response)\n"
   ]
  },
  {
   "cell_type": "code",
   "execution_count": null,
   "metadata": {},
   "outputs": [],
   "source": [
    "ces = pd.read_csv(\"ces_after.csv\", dtype={\"Fips\":str})"
   ]
  },
  {
   "cell_type": "code",
   "execution_count": null,
   "metadata": {},
   "outputs": [],
   "source": [
    "ces.loc[ces.Positivity < 0,\"PosTestCategory\"] = \"Unknown\"\n",
    "ces.loc[(ces.Positivity >= 0) & (ces.Positivity < 5),\"PosTestCategory\"] = \"Low\"\n",
    "ces.loc[(ces.Positivity >= 5) & (ces.Positivity < 10),\"PosTestCategory\"] = \"Moderate\"\n",
    "ces.loc[(ces.Positivity >= 10) &(ces.Positivity < 20),\"PosTestCategory\"] = \"High\"\n",
    "ces.loc[(ces.Positivity >= 20),\"PosTestCategory\"] = \"Extreme\"\n",
    "\n",
    "\n",
    "ces.sort_values(by=\"Positivity\", ascending=False, inplace=True)\n",
    "# ces[\"ReportDate\"] = ces[\"ReportDate\"].dt.strftime(\"%Y-%m-%d\")\n",
    "dt = ces[\"ReportDate\"].max()\n",
    "dt = datetime.strptime(dt, \"%Y-%m-%d\")\n",
    "month = datetime.strptime(str(dt.month), \"%m\")\n",
    "month = month.strftime(\"%B\")\n",
    "fulldate = f\"{month} {dt.day}, {dt.year}\""
   ]
  },
  {
   "cell_type": "code",
   "execution_count": null,
   "metadata": {},
   "outputs": [],
   "source": [
    "ces"
   ]
  },
  {
   "cell_type": "code",
   "execution_count": null,
   "metadata": {},
   "outputs": [],
   "source": [
    "color_scheme = [\"#d55e00\", \"#cc72b2\", \"#f0e442\", \"#009e73\", \"#f0f0f0\"]\n",
    "cat_options = [\"Extreme\", \"High\", \"Moderate\", \"Low\", \"Unknown\"]\n",
    "# color_scheme = [\"#cc72b2\", \"#f0e442\", \"#009e73\", \"#f0f0f0\"]\n",
    "# red, pink,  yellow, green, gray\n",
    "\n",
    "\n",
    "color_scheme = get_colors(ces[\"PosTestCategory\"], color_scheme, cat_options)\n",
    "print(color_scheme)"
   ]
  },
  {
   "cell_type": "code",
   "execution_count": null,
   "metadata": {},
   "outputs": [],
   "source": [
    "fig = px.choropleth_mapbox(ces, geojson=state_fips, locations=\"Fips\", color=\"PosTestCategory\",\n",
    "                           color_discrete_sequence=color_scheme,\n",
    "                           mapbox_style=\"carto-positron\",\n",
    "#                            mapbox_style = \"albers usa\",\n",
    "                           zoom=3, center = {\"lat\": 37.0902, \"lon\": -95.7129},\n",
    "                           labels={'Positivity':'Positive Test Rate (%) ',\n",
    "                                   'PosTestCategory' : 'Category Ranking',\n",
    "                                   'ReportDate' : 'Report Date',\n",
    "                                   'PositivityIs' : '2-Week Positivity Trend is'},\n",
    "                           hover_name=\"State\",\n",
    "                           hover_data={'Fips':False,\n",
    "                                       'State':False,\n",
    "                                       'ReportDate':True,\n",
    "                                       'PositivityIs':True,\n",
    "                                       'Positivity':': .1f',\n",
    "                                       'PosTestCategory':False,\n",
    "                            }\n",
    "                          )\n",
    "\n",
    "fig.update_layout(margin={\"r\":0,\"t\":30,\"l\":0,\"b\":0}, title=f\"Positivity by State ({fulldate})\", legend_orientation=\"h\")\n",
    "\n",
    "fig.show()"
   ]
  },
  {
   "cell_type": "code",
   "execution_count": null,
   "metadata": {},
   "outputs": [],
   "source": [
    "fig.write_html(f\"./state_positivity_2020-09-09.html\")"
   ]
  }
 ],
 "metadata": {
  "kernelspec": {
   "display_name": "Python 3",
   "language": "python",
   "name": "python3"
  },
  "language_info": {
   "codemirror_mode": {
    "name": "ipython",
    "version": 3
   },
   "file_extension": ".py",
   "mimetype": "text/x-python",
   "name": "python",
   "nbconvert_exporter": "python",
   "pygments_lexer": "ipython3",
   "version": "3.6.11"
  }
 },
 "nbformat": 4,
 "nbformat_minor": 4
}
